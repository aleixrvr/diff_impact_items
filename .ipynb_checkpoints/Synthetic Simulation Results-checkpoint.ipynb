{
 "cells": [
  {
   "cell_type": "code",
   "execution_count": 1,
   "id": "533e293b",
   "metadata": {},
   "outputs": [],
   "source": [
    "from numpy.random import choice, normal, uniform, binomial\n",
    "from numpy import sum, mean, zeros, array, NaN, floor, sqrt, std\n",
    "import pandas as pd\n",
    "from math import comb\n",
    "from numpy.random import seed, choice\n",
    "import numpy as np\n",
    "import itertools\n",
    "from tqdm import tqdm"
   ]
  },
  {
   "cell_type": "code",
   "execution_count": 2,
   "id": "335c1393",
   "metadata": {},
   "outputs": [],
   "source": [
    "pd.options.mode.chained_assignment = None\n",
    "seed(1234)"
   ]
  },
  {
   "cell_type": "markdown",
   "id": "65a9969a",
   "metadata": {},
   "source": [
    "# Simulating Data"
   ]
  },
  {
   "cell_type": "markdown",
   "id": "d9ec1943",
   "metadata": {},
   "source": [
    "We will simulate two types of users (enthusiasts and normal), with proportion `prob_enthusiast`. Enthusiast have a higher impact on the outcome `enthusiast_effect` and also a higher acceptance rate `inc_enth_cons` of doing the recommended items. So the type of users is an **unobserved confounder**. \n",
    "\n",
    "Each user does `sessions_n` sessions, and at each session, there are only `k` items recommended. There is an underlying recommender system (the recommender system by default) that always recommends items 0:`k` for normal users, while always recommends the last `k` items to enthusiasts. Every session, with probability `exploration_prob` the items are recommended uniformly at random. \n",
    "\n",
    "The outcome is calculated as follows. Each treatment `i` has an additve causal impact of `i` (to make it easy the index of the item is the same causal impact). The outcome is the addition of each item consumed, plus some noise `delta`. As already said, enthusiast have an extra bonus of `enthusiast_effect` in the outcome."
   ]
  },
  {
   "cell_type": "code",
   "execution_count": 3,
   "id": "780803cf",
   "metadata": {},
   "outputs": [],
   "source": [
    "treatments_n = 5\n",
    "patients_n = 50000\n",
    "sessions_n = 2\n",
    "k = 3\n",
    "delta = 0.1\n",
    "exploration_prob = 0.5\n",
    "\n",
    "prob_enthusiast = 0.4\n",
    "enthusiast_effect = 10\n",
    "base_consumption = 0.2\n",
    "inc_enth_cons = 0.4\n",
    "\n",
    "bootstrap_n = 150"
   ]
  },
  {
   "cell_type": "code",
   "execution_count": 4,
   "id": "fd7499df",
   "metadata": {
    "scrolled": true
   },
   "outputs": [],
   "source": [
    "ids = []\n",
    "sessions = []\n",
    "patient_types = []\n",
    "treatments = []\n",
    "recommendations = []\n",
    "consumptions = []\n",
    "originals = []\n",
    "explorations = []\n",
    "\n",
    "treats_ids = list(range(treatments_n))\n",
    "\n",
    "k_i = 1\n",
    "k_e = k - 1\n",
    "\n",
    "for id in range(patients_n):\n",
    "    patient_type = choice([0, 1], size=1, p=[1-prob_enthusiast, prob_enthusiast])[0]\n",
    "    for session in range(sessions_n):\n",
    "        exploration = binomial(1, exploration_prob, size=1)[0]\n",
    "        original = None\n",
    "        if patient_type == 1:\n",
    "            original = treats_ids[:k_i] + treats_ids[-k_e:]\n",
    "        else:\n",
    "            original = treats_ids[:k_e] + treats_ids[-k_i:]\n",
    "        if exploration == 1:\n",
    "            recommended = choice(treats_ids, size=k, replace=False)\n",
    "        else:\n",
    "            recommended = original\n",
    "            \n",
    "        recommended = [int(treat in recommended) for treat in treats_ids]     \n",
    "        original = [int(treat in original) for treat in treats_ids]     \n",
    "        \n",
    "        consumption = []\n",
    "        for treat in range(treatments_n):\n",
    "            score_assign = base_consumption + inc_enth_cons*patient_type\n",
    "            item_cons = int(uniform(size=1)[0] <= score_assign)\n",
    "            item_cons *= recommended[treat]\n",
    "            consumption.append(item_cons)\n",
    "        \n",
    "        ids += [id]*treatments_n\n",
    "        sessions += [session]*treatments_n\n",
    "        patient_types += [patient_type]*treatments_n\n",
    "        treatments += treats_ids\n",
    "        recommendations += recommended\n",
    "        consumptions += consumption\n",
    "        explorations += [exploration]*treatments_n\n",
    "        originals += original\n",
    "    \n",
    "df = pd.DataFrame({\n",
    "    'id': ids,\n",
    "    'session': sessions, \n",
    "    'patient_type': patient_types,\n",
    "    'treatment': treatments, \n",
    "    'original': originals,\n",
    "    'recommended': recommendations,\n",
    "    'consumed': consumptions,\n",
    "    'exploration': explorations\n",
    "})\n",
    "\n",
    "outcomes = df.groupby('id').apply(lambda x: \n",
    "    (sum(x['treatment']*x['consumed']) + \n",
    "    mean(x['patient_type'])*enthusiast_effect + \n",
    "    normal(size=1, scale=delta))[0]\n",
    ").reset_index()\n",
    "outcomes.rename(columns={0:'outcome'}, inplace = True)\n",
    "df = df.merge(outcomes, on='id')"
   ]
  },
  {
   "cell_type": "code",
   "execution_count": 5,
   "id": "b3723223",
   "metadata": {},
   "outputs": [
    {
     "data": {
      "text/html": [
       "<div>\n",
       "<style scoped>\n",
       "    .dataframe tbody tr th:only-of-type {\n",
       "        vertical-align: middle;\n",
       "    }\n",
       "\n",
       "    .dataframe tbody tr th {\n",
       "        vertical-align: top;\n",
       "    }\n",
       "\n",
       "    .dataframe thead th {\n",
       "        text-align: right;\n",
       "    }\n",
       "</style>\n",
       "<table border=\"1\" class=\"dataframe\">\n",
       "  <thead>\n",
       "    <tr style=\"text-align: right;\">\n",
       "      <th></th>\n",
       "      <th>id</th>\n",
       "      <th>session</th>\n",
       "      <th>patient_type</th>\n",
       "      <th>treatment</th>\n",
       "      <th>original</th>\n",
       "      <th>recommended</th>\n",
       "      <th>consumed</th>\n",
       "      <th>exploration</th>\n",
       "      <th>outcome</th>\n",
       "    </tr>\n",
       "  </thead>\n",
       "  <tbody>\n",
       "    <tr>\n",
       "      <th>0</th>\n",
       "      <td>0</td>\n",
       "      <td>0</td>\n",
       "      <td>0</td>\n",
       "      <td>0</td>\n",
       "      <td>1</td>\n",
       "      <td>0</td>\n",
       "      <td>0</td>\n",
       "      <td>1</td>\n",
       "      <td>0.058275</td>\n",
       "    </tr>\n",
       "    <tr>\n",
       "      <th>1</th>\n",
       "      <td>0</td>\n",
       "      <td>0</td>\n",
       "      <td>0</td>\n",
       "      <td>1</td>\n",
       "      <td>1</td>\n",
       "      <td>1</td>\n",
       "      <td>0</td>\n",
       "      <td>1</td>\n",
       "      <td>0.058275</td>\n",
       "    </tr>\n",
       "    <tr>\n",
       "      <th>2</th>\n",
       "      <td>0</td>\n",
       "      <td>0</td>\n",
       "      <td>0</td>\n",
       "      <td>2</td>\n",
       "      <td>0</td>\n",
       "      <td>1</td>\n",
       "      <td>0</td>\n",
       "      <td>1</td>\n",
       "      <td>0.058275</td>\n",
       "    </tr>\n",
       "    <tr>\n",
       "      <th>3</th>\n",
       "      <td>0</td>\n",
       "      <td>0</td>\n",
       "      <td>0</td>\n",
       "      <td>3</td>\n",
       "      <td>0</td>\n",
       "      <td>1</td>\n",
       "      <td>0</td>\n",
       "      <td>1</td>\n",
       "      <td>0.058275</td>\n",
       "    </tr>\n",
       "    <tr>\n",
       "      <th>4</th>\n",
       "      <td>0</td>\n",
       "      <td>0</td>\n",
       "      <td>0</td>\n",
       "      <td>4</td>\n",
       "      <td>1</td>\n",
       "      <td>0</td>\n",
       "      <td>0</td>\n",
       "      <td>1</td>\n",
       "      <td>0.058275</td>\n",
       "    </tr>\n",
       "    <tr>\n",
       "      <th>5</th>\n",
       "      <td>0</td>\n",
       "      <td>1</td>\n",
       "      <td>0</td>\n",
       "      <td>0</td>\n",
       "      <td>1</td>\n",
       "      <td>0</td>\n",
       "      <td>0</td>\n",
       "      <td>1</td>\n",
       "      <td>0.058275</td>\n",
       "    </tr>\n",
       "    <tr>\n",
       "      <th>6</th>\n",
       "      <td>0</td>\n",
       "      <td>1</td>\n",
       "      <td>0</td>\n",
       "      <td>1</td>\n",
       "      <td>1</td>\n",
       "      <td>1</td>\n",
       "      <td>0</td>\n",
       "      <td>1</td>\n",
       "      <td>0.058275</td>\n",
       "    </tr>\n",
       "    <tr>\n",
       "      <th>7</th>\n",
       "      <td>0</td>\n",
       "      <td>1</td>\n",
       "      <td>0</td>\n",
       "      <td>2</td>\n",
       "      <td>0</td>\n",
       "      <td>0</td>\n",
       "      <td>0</td>\n",
       "      <td>1</td>\n",
       "      <td>0.058275</td>\n",
       "    </tr>\n",
       "    <tr>\n",
       "      <th>8</th>\n",
       "      <td>0</td>\n",
       "      <td>1</td>\n",
       "      <td>0</td>\n",
       "      <td>3</td>\n",
       "      <td>0</td>\n",
       "      <td>1</td>\n",
       "      <td>0</td>\n",
       "      <td>1</td>\n",
       "      <td>0.058275</td>\n",
       "    </tr>\n",
       "    <tr>\n",
       "      <th>9</th>\n",
       "      <td>0</td>\n",
       "      <td>1</td>\n",
       "      <td>0</td>\n",
       "      <td>4</td>\n",
       "      <td>1</td>\n",
       "      <td>1</td>\n",
       "      <td>0</td>\n",
       "      <td>1</td>\n",
       "      <td>0.058275</td>\n",
       "    </tr>\n",
       "  </tbody>\n",
       "</table>\n",
       "</div>"
      ],
      "text/plain": [
       "   id  session  patient_type  treatment  original  recommended  consumed  \\\n",
       "0   0        0             0          0         1            0         0   \n",
       "1   0        0             0          1         1            1         0   \n",
       "2   0        0             0          2         0            1         0   \n",
       "3   0        0             0          3         0            1         0   \n",
       "4   0        0             0          4         1            0         0   \n",
       "5   0        1             0          0         1            0         0   \n",
       "6   0        1             0          1         1            1         0   \n",
       "7   0        1             0          2         0            0         0   \n",
       "8   0        1             0          3         0            1         0   \n",
       "9   0        1             0          4         1            1         0   \n",
       "\n",
       "   exploration   outcome  \n",
       "0            1  0.058275  \n",
       "1            1  0.058275  \n",
       "2            1  0.058275  \n",
       "3            1  0.058275  \n",
       "4            1  0.058275  \n",
       "5            1  0.058275  \n",
       "6            1  0.058275  \n",
       "7            1  0.058275  \n",
       "8            1  0.058275  \n",
       "9            1  0.058275  "
      ]
     },
     "execution_count": 5,
     "metadata": {},
     "output_type": "execute_result"
    }
   ],
   "source": [
    "df.head(n=treatments_n*sessions_n)"
   ]
  },
  {
   "cell_type": "code",
   "execution_count": 6,
   "id": "a178f0c1",
   "metadata": {},
   "outputs": [],
   "source": [
    "recs = df.pivot(index=['id', 'session', 'exploration'], columns='treatment', values='recommended').reset_index().merge(outcomes, on='id')\n",
    "consumes = df.pivot(index=['id', 'session', 'exploration'], columns='treatment', values='consumed').reset_index().merge(outcomes, on='id')\n",
    "originals = df.pivot(index=['id', 'session', 'exploration'], columns='treatment', values='original').reset_index().merge(outcomes, on='id')"
   ]
  },
  {
   "cell_type": "code",
   "execution_count": 7,
   "id": "5c377961",
   "metadata": {},
   "outputs": [
    {
     "data": {
      "text/html": [
       "<div>\n",
       "<style scoped>\n",
       "    .dataframe tbody tr th:only-of-type {\n",
       "        vertical-align: middle;\n",
       "    }\n",
       "\n",
       "    .dataframe tbody tr th {\n",
       "        vertical-align: top;\n",
       "    }\n",
       "\n",
       "    .dataframe thead th {\n",
       "        text-align: right;\n",
       "    }\n",
       "</style>\n",
       "<table border=\"1\" class=\"dataframe\">\n",
       "  <thead>\n",
       "    <tr style=\"text-align: right;\">\n",
       "      <th></th>\n",
       "      <th>id</th>\n",
       "      <th>session</th>\n",
       "      <th>exploration</th>\n",
       "      <th>0</th>\n",
       "      <th>1</th>\n",
       "      <th>2</th>\n",
       "      <th>3</th>\n",
       "      <th>4</th>\n",
       "      <th>outcome</th>\n",
       "    </tr>\n",
       "  </thead>\n",
       "  <tbody>\n",
       "    <tr>\n",
       "      <th>0</th>\n",
       "      <td>0</td>\n",
       "      <td>0</td>\n",
       "      <td>1</td>\n",
       "      <td>0</td>\n",
       "      <td>1</td>\n",
       "      <td>1</td>\n",
       "      <td>1</td>\n",
       "      <td>0</td>\n",
       "      <td>0.058275</td>\n",
       "    </tr>\n",
       "    <tr>\n",
       "      <th>1</th>\n",
       "      <td>0</td>\n",
       "      <td>1</td>\n",
       "      <td>1</td>\n",
       "      <td>0</td>\n",
       "      <td>1</td>\n",
       "      <td>0</td>\n",
       "      <td>1</td>\n",
       "      <td>1</td>\n",
       "      <td>0.058275</td>\n",
       "    </tr>\n",
       "  </tbody>\n",
       "</table>\n",
       "</div>"
      ],
      "text/plain": [
       "   id  session  exploration  0  1  2  3  4   outcome\n",
       "0   0        0            1  0  1  1  1  0  0.058275\n",
       "1   0        1            1  0  1  0  1  1  0.058275"
      ]
     },
     "execution_count": 7,
     "metadata": {},
     "output_type": "execute_result"
    }
   ],
   "source": [
    "recs.head(sessions_n)"
   ]
  },
  {
   "cell_type": "code",
   "execution_count": 8,
   "id": "33a7b878",
   "metadata": {},
   "outputs": [
    {
     "data": {
      "text/html": [
       "<div>\n",
       "<style scoped>\n",
       "    .dataframe tbody tr th:only-of-type {\n",
       "        vertical-align: middle;\n",
       "    }\n",
       "\n",
       "    .dataframe tbody tr th {\n",
       "        vertical-align: top;\n",
       "    }\n",
       "\n",
       "    .dataframe thead th {\n",
       "        text-align: right;\n",
       "    }\n",
       "</style>\n",
       "<table border=\"1\" class=\"dataframe\">\n",
       "  <thead>\n",
       "    <tr style=\"text-align: right;\">\n",
       "      <th></th>\n",
       "      <th>id</th>\n",
       "      <th>session</th>\n",
       "      <th>exploration</th>\n",
       "      <th>0</th>\n",
       "      <th>1</th>\n",
       "      <th>2</th>\n",
       "      <th>3</th>\n",
       "      <th>4</th>\n",
       "      <th>outcome</th>\n",
       "    </tr>\n",
       "  </thead>\n",
       "  <tbody>\n",
       "    <tr>\n",
       "      <th>0</th>\n",
       "      <td>0</td>\n",
       "      <td>0</td>\n",
       "      <td>1</td>\n",
       "      <td>0</td>\n",
       "      <td>0</td>\n",
       "      <td>0</td>\n",
       "      <td>0</td>\n",
       "      <td>0</td>\n",
       "      <td>0.058275</td>\n",
       "    </tr>\n",
       "    <tr>\n",
       "      <th>1</th>\n",
       "      <td>0</td>\n",
       "      <td>1</td>\n",
       "      <td>1</td>\n",
       "      <td>0</td>\n",
       "      <td>0</td>\n",
       "      <td>0</td>\n",
       "      <td>0</td>\n",
       "      <td>0</td>\n",
       "      <td>0.058275</td>\n",
       "    </tr>\n",
       "  </tbody>\n",
       "</table>\n",
       "</div>"
      ],
      "text/plain": [
       "   id  session  exploration  0  1  2  3  4   outcome\n",
       "0   0        0            1  0  0  0  0  0  0.058275\n",
       "1   0        1            1  0  0  0  0  0  0.058275"
      ]
     },
     "execution_count": 8,
     "metadata": {},
     "output_type": "execute_result"
    }
   ],
   "source": [
    "consumes.head(sessions_n)"
   ]
  },
  {
   "cell_type": "code",
   "execution_count": 9,
   "id": "a7fa4dc9",
   "metadata": {},
   "outputs": [
    {
     "data": {
      "text/html": [
       "<div>\n",
       "<style scoped>\n",
       "    .dataframe tbody tr th:only-of-type {\n",
       "        vertical-align: middle;\n",
       "    }\n",
       "\n",
       "    .dataframe tbody tr th {\n",
       "        vertical-align: top;\n",
       "    }\n",
       "\n",
       "    .dataframe thead th {\n",
       "        text-align: right;\n",
       "    }\n",
       "</style>\n",
       "<table border=\"1\" class=\"dataframe\">\n",
       "  <thead>\n",
       "    <tr style=\"text-align: right;\">\n",
       "      <th></th>\n",
       "      <th>id</th>\n",
       "      <th>session</th>\n",
       "      <th>exploration</th>\n",
       "      <th>0</th>\n",
       "      <th>1</th>\n",
       "      <th>2</th>\n",
       "      <th>3</th>\n",
       "      <th>4</th>\n",
       "      <th>outcome</th>\n",
       "    </tr>\n",
       "  </thead>\n",
       "  <tbody>\n",
       "    <tr>\n",
       "      <th>0</th>\n",
       "      <td>0</td>\n",
       "      <td>0</td>\n",
       "      <td>1</td>\n",
       "      <td>1</td>\n",
       "      <td>1</td>\n",
       "      <td>0</td>\n",
       "      <td>0</td>\n",
       "      <td>1</td>\n",
       "      <td>0.058275</td>\n",
       "    </tr>\n",
       "    <tr>\n",
       "      <th>1</th>\n",
       "      <td>0</td>\n",
       "      <td>1</td>\n",
       "      <td>1</td>\n",
       "      <td>1</td>\n",
       "      <td>1</td>\n",
       "      <td>0</td>\n",
       "      <td>0</td>\n",
       "      <td>1</td>\n",
       "      <td>0.058275</td>\n",
       "    </tr>\n",
       "  </tbody>\n",
       "</table>\n",
       "</div>"
      ],
      "text/plain": [
       "   id  session  exploration  0  1  2  3  4   outcome\n",
       "0   0        0            1  1  1  0  0  1  0.058275\n",
       "1   0        1            1  1  1  0  0  1  0.058275"
      ]
     },
     "execution_count": 9,
     "metadata": {},
     "output_type": "execute_result"
    }
   ],
   "source": [
    "originals.head(sessions_n)"
   ]
  },
  {
   "cell_type": "markdown",
   "id": "85a68fb5",
   "metadata": {},
   "source": [
    "# Basic Stats"
   ]
  },
  {
   "cell_type": "code",
   "execution_count": 10,
   "id": "1b129309",
   "metadata": {},
   "outputs": [
    {
     "data": {
      "text/html": [
       "<div>\n",
       "<style scoped>\n",
       "    .dataframe tbody tr th:only-of-type {\n",
       "        vertical-align: middle;\n",
       "    }\n",
       "\n",
       "    .dataframe tbody tr th {\n",
       "        vertical-align: top;\n",
       "    }\n",
       "\n",
       "    .dataframe thead th {\n",
       "        text-align: right;\n",
       "    }\n",
       "</style>\n",
       "<table border=\"1\" class=\"dataframe\">\n",
       "  <thead>\n",
       "    <tr style=\"text-align: right;\">\n",
       "      <th></th>\n",
       "      <th>patient_type</th>\n",
       "      <th>consumed</th>\n",
       "    </tr>\n",
       "  </thead>\n",
       "  <tbody>\n",
       "    <tr>\n",
       "      <th>0</th>\n",
       "      <td>0</td>\n",
       "      <td>0.198608</td>\n",
       "    </tr>\n",
       "    <tr>\n",
       "      <th>1</th>\n",
       "      <td>1</td>\n",
       "      <td>0.602093</td>\n",
       "    </tr>\n",
       "  </tbody>\n",
       "</table>\n",
       "</div>"
      ],
      "text/plain": [
       "   patient_type  consumed\n",
       "0             0  0.198608\n",
       "1             1  0.602093"
      ]
     },
     "execution_count": 10,
     "metadata": {},
     "output_type": "execute_result"
    }
   ],
   "source": [
    "res = df[df.recommended==1].groupby('patient_type').consumed.mean().reset_index()\n",
    "res"
   ]
  },
  {
   "cell_type": "code",
   "execution_count": 11,
   "id": "3b4eead4",
   "metadata": {},
   "outputs": [
    {
     "data": {
      "text/html": [
       "<div>\n",
       "<style scoped>\n",
       "    .dataframe tbody tr th:only-of-type {\n",
       "        vertical-align: middle;\n",
       "    }\n",
       "\n",
       "    .dataframe tbody tr th {\n",
       "        vertical-align: top;\n",
       "    }\n",
       "\n",
       "    .dataframe thead th {\n",
       "        text-align: right;\n",
       "    }\n",
       "</style>\n",
       "<table border=\"1\" class=\"dataframe\">\n",
       "  <thead>\n",
       "    <tr style=\"text-align: right;\">\n",
       "      <th></th>\n",
       "      <th>patient_type</th>\n",
       "      <th>outcome</th>\n",
       "    </tr>\n",
       "  </thead>\n",
       "  <tbody>\n",
       "    <tr>\n",
       "      <th>0</th>\n",
       "      <td>0</td>\n",
       "      <td>2.190502</td>\n",
       "    </tr>\n",
       "    <tr>\n",
       "      <th>1</th>\n",
       "      <td>1</td>\n",
       "      <td>17.786023</td>\n",
       "    </tr>\n",
       "  </tbody>\n",
       "</table>\n",
       "</div>"
      ],
      "text/plain": [
       "   patient_type    outcome\n",
       "0             0   2.190502\n",
       "1             1  17.786023"
      ]
     },
     "execution_count": 11,
     "metadata": {},
     "output_type": "execute_result"
    }
   ],
   "source": [
    "res = df.groupby('patient_type').outcome.mean().reset_index()\n",
    "res"
   ]
  },
  {
   "cell_type": "markdown",
   "id": "45e1ad6c",
   "metadata": {},
   "source": [
    "# Helping functions"
   ]
  },
  {
   "cell_type": "code",
   "execution_count": 12,
   "id": "7f4a1082",
   "metadata": {},
   "outputs": [],
   "source": [
    "def rmse(diff_1, diff_2):\n",
    "    return(sqrt(mean((diff_1 - diff_2)**2)))"
   ]
  },
  {
   "cell_type": "code",
   "execution_count": 13,
   "id": "5e85055c",
   "metadata": {},
   "outputs": [],
   "source": [
    "def resample(recs, originals):\n",
    "    n_rows = int(recs.shape[0]/sessions_n)\n",
    "    inds = choice(n_rows, n_rows, replace=True)\n",
    "    inds = np.array([j for i in inds for j in range(sessions_n*i, sessions_n*i + sessions_n)])\n",
    "    return recs.iloc[inds, :], originals.iloc[inds, :]"
   ]
  },
  {
   "cell_type": "code",
   "execution_count": 14,
   "id": "459e4931",
   "metadata": {},
   "outputs": [],
   "source": [
    "def estimate_score(results):\n",
    "    scores = zeros(results.shape[0])\n",
    "    for col in range(0, results.shape[0]):\n",
    "        scores += results[:, col] - results[col, 0]\n",
    "    scores /= results.shape[0]\n",
    "    return(scores)"
   ]
  },
  {
   "cell_type": "code",
   "execution_count": 15,
   "id": "06a34718",
   "metadata": {},
   "outputs": [],
   "source": [
    "def rank_differences(results):\n",
    "    scores = pd.DataFrame({'score': estimate_score(results)}).sort_values(by='score', ascending=False)\n",
    "    return(scores)"
   ]
  },
  {
   "cell_type": "code",
   "execution_count": 16,
   "id": "205c15b4",
   "metadata": {},
   "outputs": [],
   "source": [
    "def rank_scores(results_0):\n",
    "    results = results_0.copy()\n",
    "    results_stats = pd.DataFrame({\n",
    "        'treatment_id': list(range(results.shape[1])), \n",
    "        'score': np.apply_along_axis(mean, 0, results),\n",
    "        '2.5%': np.apply_along_axis(lambda x: np.quantile(x, 0.025), 0, results),\n",
    "        '97.5%': np.apply_along_axis(lambda x: np.quantile(x, 0.975), 0, results),\n",
    "\n",
    "    })\n",
    "    return(results_stats.sort_values(by='score', ascending=False))"
   ]
  },
  {
   "cell_type": "code",
   "execution_count": 17,
   "id": "3a7e4617",
   "metadata": {},
   "outputs": [],
   "source": [
    "def table_results(reference_scores, tables, names):\n",
    "    table_res = reference_scores.copy()\n",
    "\n",
    "    table_res.reset_index(names=['treatment_id'], inplace=True)\n",
    "    table_res.reset_index(names=['position'], inplace=True)\n",
    "\n",
    "    for res, name_ in zip(tables, names):\n",
    "        res_ = res.copy()\n",
    "        res_['score_' + name_] = res_.apply(lambda row: f\"{row['score']:.2f} ({row['2.5%']:.2f}, {row['97.5%']:.2f})\", axis=1)\n",
    "        res_['score_' + name_ + '_val'] = res_['score']\n",
    "        res_['position_' + name_] = list(range(res_.shape[0]))\n",
    "\n",
    "        table_res = table_res.merge(res_[['treatment_id', 'score_' + name_ + '_val', 'position_' + name_, 'score_' + name_]], on='treatment_id')\n",
    "        table_res['diff_' + name_] = table_res['score'] - table_res['score_' + name_ + '_val']\n",
    "        table_res['diff_position_' + name_] = table_res['position'] - table_res['position_' + name_]\n",
    "        table_res = table_res.drop(['position_' + name_, 'score_' + name_ + '_val'], axis=1)\n",
    "\n",
    "    table_res = table_res.drop('position', axis=1)\n",
    "    return(table_res)"
   ]
  },
  {
   "cell_type": "markdown",
   "id": "076acd76",
   "metadata": {},
   "source": [
    "# Real Impact of Recommendations"
   ]
  },
  {
   "cell_type": "markdown",
   "id": "8f74e826",
   "metadata": {},
   "source": [
    "This are the difference of causal impact between pairs of items"
   ]
  },
  {
   "cell_type": "code",
   "execution_count": 18,
   "id": "4868ae55",
   "metadata": {},
   "outputs": [
    {
     "data": {
      "text/html": [
       "<div>\n",
       "<style scoped>\n",
       "    .dataframe tbody tr th:only-of-type {\n",
       "        vertical-align: middle;\n",
       "    }\n",
       "\n",
       "    .dataframe tbody tr th {\n",
       "        vertical-align: top;\n",
       "    }\n",
       "\n",
       "    .dataframe thead th {\n",
       "        text-align: right;\n",
       "    }\n",
       "</style>\n",
       "<table border=\"1\" class=\"dataframe\">\n",
       "  <thead>\n",
       "    <tr style=\"text-align: right;\">\n",
       "      <th></th>\n",
       "      <th>0</th>\n",
       "      <th>1</th>\n",
       "      <th>2</th>\n",
       "      <th>3</th>\n",
       "      <th>4</th>\n",
       "    </tr>\n",
       "  </thead>\n",
       "  <tbody>\n",
       "    <tr>\n",
       "      <th>0</th>\n",
       "      <td>0.00</td>\n",
       "      <td>-0.36</td>\n",
       "      <td>-0.72</td>\n",
       "      <td>-1.08</td>\n",
       "      <td>-1.44</td>\n",
       "    </tr>\n",
       "    <tr>\n",
       "      <th>1</th>\n",
       "      <td>0.36</td>\n",
       "      <td>0.00</td>\n",
       "      <td>-0.36</td>\n",
       "      <td>-0.72</td>\n",
       "      <td>-1.08</td>\n",
       "    </tr>\n",
       "    <tr>\n",
       "      <th>2</th>\n",
       "      <td>0.72</td>\n",
       "      <td>0.36</td>\n",
       "      <td>0.00</td>\n",
       "      <td>-0.36</td>\n",
       "      <td>-0.72</td>\n",
       "    </tr>\n",
       "    <tr>\n",
       "      <th>3</th>\n",
       "      <td>1.08</td>\n",
       "      <td>0.72</td>\n",
       "      <td>0.36</td>\n",
       "      <td>0.00</td>\n",
       "      <td>-0.36</td>\n",
       "    </tr>\n",
       "    <tr>\n",
       "      <th>4</th>\n",
       "      <td>1.44</td>\n",
       "      <td>1.08</td>\n",
       "      <td>0.72</td>\n",
       "      <td>0.36</td>\n",
       "      <td>0.00</td>\n",
       "    </tr>\n",
       "  </tbody>\n",
       "</table>\n",
       "</div>"
      ],
      "text/plain": [
       "      0     1     2     3     4\n",
       "0  0.00 -0.36 -0.72 -1.08 -1.44\n",
       "1  0.36  0.00 -0.36 -0.72 -1.08\n",
       "2  0.72  0.36  0.00 -0.36 -0.72\n",
       "3  1.08  0.72  0.36  0.00 -0.36\n",
       "4  1.44  1.08  0.72  0.36  0.00"
      ]
     },
     "execution_count": 18,
     "metadata": {},
     "output_type": "execute_result"
    }
   ],
   "source": [
    "expected_diff_treats = zeros((treatments_n, treatments_n))\n",
    "\n",
    "expected_compliers = base_consumption*(1-prob_enthusiast) + (base_consumption + inc_enth_cons)*prob_enthusiast\n",
    "\n",
    "for treat_1 in range(treatments_n):\n",
    "    for treat_2 in range(treatments_n):\n",
    "        expected_diff_treats[treat_1, treat_2] = (treat_1 - treat_2)*expected_compliers\n",
    "\n",
    "pd.DataFrame(expected_diff_treats.round(2))"
   ]
  },
  {
   "cell_type": "code",
   "execution_count": 19,
   "id": "1350d741",
   "metadata": {},
   "outputs": [
    {
     "data": {
      "text/html": [
       "<div>\n",
       "<style scoped>\n",
       "    .dataframe tbody tr th:only-of-type {\n",
       "        vertical-align: middle;\n",
       "    }\n",
       "\n",
       "    .dataframe tbody tr th {\n",
       "        vertical-align: top;\n",
       "    }\n",
       "\n",
       "    .dataframe thead th {\n",
       "        text-align: right;\n",
       "    }\n",
       "</style>\n",
       "<table border=\"1\" class=\"dataframe\">\n",
       "  <thead>\n",
       "    <tr style=\"text-align: right;\">\n",
       "      <th></th>\n",
       "      <th>score</th>\n",
       "    </tr>\n",
       "  </thead>\n",
       "  <tbody>\n",
       "    <tr>\n",
       "      <th>4</th>\n",
       "      <td>0.00</td>\n",
       "    </tr>\n",
       "    <tr>\n",
       "      <th>3</th>\n",
       "      <td>-0.36</td>\n",
       "    </tr>\n",
       "    <tr>\n",
       "      <th>2</th>\n",
       "      <td>-0.72</td>\n",
       "    </tr>\n",
       "    <tr>\n",
       "      <th>1</th>\n",
       "      <td>-1.08</td>\n",
       "    </tr>\n",
       "    <tr>\n",
       "      <th>0</th>\n",
       "      <td>-1.44</td>\n",
       "    </tr>\n",
       "  </tbody>\n",
       "</table>\n",
       "</div>"
      ],
      "text/plain": [
       "   score\n",
       "4   0.00\n",
       "3  -0.36\n",
       "2  -0.72\n",
       "1  -1.08\n",
       "0  -1.44"
      ]
     },
     "execution_count": 19,
     "metadata": {},
     "output_type": "execute_result"
    }
   ],
   "source": [
    "rank_differences(expected_diff_treats)"
   ]
  },
  {
   "cell_type": "markdown",
   "id": "c24774fb",
   "metadata": {},
   "source": [
    "# Direct Estimation Recommendations"
   ]
  },
  {
   "cell_type": "markdown",
   "id": "b9e3609d",
   "metadata": {},
   "source": [
    "This is the difference between recommendations obtained by trivial computations. The results are biased, leading to an incorrect order."
   ]
  },
  {
   "cell_type": "code",
   "execution_count": 20,
   "id": "6f435708",
   "metadata": {
    "scrolled": true
   },
   "outputs": [
    {
     "name": "stderr",
     "output_type": "stream",
     "text": [
      "100%|█████████████████████████████████████████| 150/150 [00:23<00:00,  6.33it/s]\n"
     ]
    }
   ],
   "source": [
    "diff_treats_0 = zeros((bootstrap_n, treatments_n, treatments_n))\n",
    "scores_results_0 = zeros((bootstrap_n, treatments_n))\n",
    "rmse_results_0 = []\n",
    "\n",
    "for repetition in tqdm(range(bootstrap_n)):\n",
    "    recs_resample, _ = resample(recs, originals)\n",
    "    for treat_1 in range(treatments_n):\n",
    "        for treat_2 in range(treatments_n):\n",
    "            try: \n",
    "                inds_1_0 = recs_resample.loc[:, treat_1] == 1\n",
    "                inds_2_0 = recs_resample.loc[:, treat_2] == 1\n",
    "                res_1 = recs_resample[inds_1_0].loc[:, 'outcome'].mean() - recs_resample[inds_2_0].loc[:, 'outcome'].mean()\n",
    "            except:\n",
    "                res_1 = NaN\n",
    "            diff_treats_0[repetition, treat_1, treat_2] = res_1\n",
    "    scores_results_0[repetition] = estimate_score(diff_treats_0[repetition, :, :])\n",
    "    rmse_results_0.append(rmse(diff_treats_0[repetition, :, :], expected_diff_treats))"
   ]
  },
  {
   "cell_type": "markdown",
   "id": "0cc5b802",
   "metadata": {},
   "source": [
    "In comparison with the theoretical results"
   ]
  },
  {
   "cell_type": "code",
   "execution_count": 21,
   "id": "7bc23b5b",
   "metadata": {},
   "outputs": [
    {
     "name": "stdout",
     "output_type": "stream",
     "text": [
      "RMSE with 95% confidence interval: 2.96 (2.93, 3.0)\n"
     ]
    },
    {
     "data": {
      "text/html": [
       "<div>\n",
       "<style scoped>\n",
       "    .dataframe tbody tr th:only-of-type {\n",
       "        vertical-align: middle;\n",
       "    }\n",
       "\n",
       "    .dataframe tbody tr th {\n",
       "        vertical-align: top;\n",
       "    }\n",
       "\n",
       "    .dataframe thead th {\n",
       "        text-align: right;\n",
       "    }\n",
       "</style>\n",
       "<table border=\"1\" class=\"dataframe\">\n",
       "  <thead>\n",
       "    <tr style=\"text-align: right;\">\n",
       "      <th></th>\n",
       "      <th>treatment_id</th>\n",
       "      <th>score</th>\n",
       "      <th>2.5%</th>\n",
       "      <th>97.5%</th>\n",
       "    </tr>\n",
       "  </thead>\n",
       "  <tbody>\n",
       "    <tr>\n",
       "      <th>3</th>\n",
       "      <td>3</td>\n",
       "      <td>3.577970</td>\n",
       "      <td>3.523189</td>\n",
       "      <td>3.633216</td>\n",
       "    </tr>\n",
       "    <tr>\n",
       "      <th>4</th>\n",
       "      <td>4</td>\n",
       "      <td>-0.220079</td>\n",
       "      <td>-0.267121</td>\n",
       "      <td>-0.154379</td>\n",
       "    </tr>\n",
       "    <tr>\n",
       "      <th>2</th>\n",
       "      <td>2</td>\n",
       "      <td>-0.414752</td>\n",
       "      <td>-0.465665</td>\n",
       "      <td>-0.370100</td>\n",
       "    </tr>\n",
       "    <tr>\n",
       "      <th>0</th>\n",
       "      <td>0</td>\n",
       "      <td>-0.461882</td>\n",
       "      <td>-0.531034</td>\n",
       "      <td>-0.395817</td>\n",
       "    </tr>\n",
       "    <tr>\n",
       "      <th>1</th>\n",
       "      <td>1</td>\n",
       "      <td>-3.635962</td>\n",
       "      <td>-3.682571</td>\n",
       "      <td>-3.586434</td>\n",
       "    </tr>\n",
       "  </tbody>\n",
       "</table>\n",
       "</div>"
      ],
      "text/plain": [
       "   treatment_id     score      2.5%     97.5%\n",
       "3             3  3.577970  3.523189  3.633216\n",
       "4             4 -0.220079 -0.267121 -0.154379\n",
       "2             2 -0.414752 -0.465665 -0.370100\n",
       "0             0 -0.461882 -0.531034 -0.395817\n",
       "1             1 -3.635962 -3.682571 -3.586434"
      ]
     },
     "execution_count": 21,
     "metadata": {},
     "output_type": "execute_result"
    }
   ],
   "source": [
    "rmse_quantiles = np.quantile(rmse_results_0, [0.025, 0.5, 0.975])\n",
    "print(f\"RMSE with 95% confidence interval: {rmse_quantiles[1].round(2)} ({rmse_quantiles[0].round(2)}, {rmse_quantiles[2].round(2)})\")\n",
    "rank_scores(scores_results_0)"
   ]
  },
  {
   "cell_type": "markdown",
   "id": "1bb34cc9",
   "metadata": {},
   "source": [
    "# Direct Increment Estimation Recommendations"
   ]
  },
  {
   "cell_type": "markdown",
   "id": "8afaa992",
   "metadata": {},
   "source": [
    "An estimator based on the differences between when an item has been selected and when it is not. The results are biased, leading to an incorrect order."
   ]
  },
  {
   "cell_type": "code",
   "execution_count": 22,
   "id": "a2d5a53f",
   "metadata": {},
   "outputs": [
    {
     "name": "stderr",
     "output_type": "stream",
     "text": [
      "100%|█████████████████████████████████████████| 150/150 [00:40<00:00,  3.72it/s]\n"
     ]
    }
   ],
   "source": [
    "diff_treats_0_inc = zeros((bootstrap_n, treatments_n, treatments_n))\n",
    "scores_results_0_inc = zeros((bootstrap_n, treatments_n))\n",
    "rmse_results_0_inc = []\n",
    "\n",
    "for repetition in tqdm(range(bootstrap_n)):\n",
    "    recs_resample, _ = resample(recs, originals)\n",
    "    for treat_1 in range(treatments_n):\n",
    "        for treat_2 in range(treatments_n):\n",
    "            try: \n",
    "                inds_1_0 = recs_resample.loc[:, treat_1] == 1\n",
    "                inds_2_0 = recs_resample.loc[:, treat_2] == 1\n",
    "                impact_1 = recs_resample[inds_1_0].loc[:, 'outcome'].mean() - recs_resample[~inds_1_0].loc[:, 'outcome'].mean()\n",
    "                impact_2 = recs_resample[inds_2_0].loc[:, 'outcome'].mean() - recs_resample[~inds_2_0].loc[:, 'outcome'].mean()\n",
    "                res_1 = impact_1 - impact_2\n",
    "            except:\n",
    "                res_1 = NaN\n",
    "            diff_treats_0_inc[repetition, treat_1, treat_2] = res_1\n",
    "    scores_results_0_inc[repetition] = estimate_score(diff_treats_0_inc[repetition, :, :])\n",
    "    rmse_results_0_inc.append(rmse(diff_treats_0_inc[repetition, :, :], expected_diff_treats))"
   ]
  },
  {
   "cell_type": "markdown",
   "id": "920988eb",
   "metadata": {},
   "source": [
    "In comparison with the theoretical results"
   ]
  },
  {
   "cell_type": "code",
   "execution_count": 23,
   "id": "6622e112",
   "metadata": {},
   "outputs": [
    {
     "name": "stdout",
     "output_type": "stream",
     "text": [
      "RMSE with 95% confidence interval: 6.88 (6.79, 6.95)\n"
     ]
    },
    {
     "data": {
      "text/html": [
       "<div>\n",
       "<style scoped>\n",
       "    .dataframe tbody tr th:only-of-type {\n",
       "        vertical-align: middle;\n",
       "    }\n",
       "\n",
       "    .dataframe tbody tr th {\n",
       "        vertical-align: top;\n",
       "    }\n",
       "\n",
       "    .dataframe thead th {\n",
       "        text-align: right;\n",
       "    }\n",
       "</style>\n",
       "<table border=\"1\" class=\"dataframe\">\n",
       "  <thead>\n",
       "    <tr style=\"text-align: right;\">\n",
       "      <th></th>\n",
       "      <th>treatment_id</th>\n",
       "      <th>score</th>\n",
       "      <th>2.5%</th>\n",
       "      <th>97.5%</th>\n",
       "    </tr>\n",
       "  </thead>\n",
       "  <tbody>\n",
       "    <tr>\n",
       "      <th>3</th>\n",
       "      <td>3</td>\n",
       "      <td>7.457222</td>\n",
       "      <td>7.320009</td>\n",
       "      <td>7.587475</td>\n",
       "    </tr>\n",
       "    <tr>\n",
       "      <th>4</th>\n",
       "      <td>4</td>\n",
       "      <td>0.270153</td>\n",
       "      <td>0.117659</td>\n",
       "      <td>0.413154</td>\n",
       "    </tr>\n",
       "    <tr>\n",
       "      <th>2</th>\n",
       "      <td>2</td>\n",
       "      <td>-0.494862</td>\n",
       "      <td>-0.601145</td>\n",
       "      <td>-0.375039</td>\n",
       "    </tr>\n",
       "    <tr>\n",
       "      <th>0</th>\n",
       "      <td>0</td>\n",
       "      <td>-0.939584</td>\n",
       "      <td>-1.170547</td>\n",
       "      <td>-0.717122</td>\n",
       "    </tr>\n",
       "    <tr>\n",
       "      <th>1</th>\n",
       "      <td>1</td>\n",
       "      <td>-8.641890</td>\n",
       "      <td>-8.770843</td>\n",
       "      <td>-8.499848</td>\n",
       "    </tr>\n",
       "  </tbody>\n",
       "</table>\n",
       "</div>"
      ],
      "text/plain": [
       "   treatment_id     score      2.5%     97.5%\n",
       "3             3  7.457222  7.320009  7.587475\n",
       "4             4  0.270153  0.117659  0.413154\n",
       "2             2 -0.494862 -0.601145 -0.375039\n",
       "0             0 -0.939584 -1.170547 -0.717122\n",
       "1             1 -8.641890 -8.770843 -8.499848"
      ]
     },
     "execution_count": 23,
     "metadata": {},
     "output_type": "execute_result"
    }
   ],
   "source": [
    "rmse_quantiles = np.quantile(rmse_results_0_inc, [0.025, 0.5, 0.975])\n",
    "print(f\"RMSE with 95% confidence interval: {rmse_quantiles[1].round(2)} ({rmse_quantiles[0].round(2)}, {rmse_quantiles[2].round(2)})\")\n",
    "rank_scores(scores_results_0_inc)"
   ]
  },
  {
   "cell_type": "markdown",
   "id": "3e161e63",
   "metadata": {},
   "source": [
    "# Propensity Score Adjustment"
   ]
  },
  {
   "cell_type": "markdown",
   "id": "1c0e64c9",
   "metadata": {},
   "source": [
    "Using propensity score adjustment to remove the effect of confounders. The results are biased, leading to an incorrect order."
   ]
  },
  {
   "cell_type": "code",
   "execution_count": 24,
   "id": "5c1bc9af",
   "metadata": {},
   "outputs": [
    {
     "name": "stderr",
     "output_type": "stream",
     "text": [
      "100%|█████████████████████████████████████████| 150/150 [01:34<00:00,  1.59it/s]\n"
     ]
    }
   ],
   "source": [
    "diff_treats_psa = zeros((bootstrap_n, treatments_n, treatments_n))\n",
    "scores_results_psa = zeros((bootstrap_n, treatments_n))\n",
    "rmse_results_psa = []\n",
    "\n",
    "N = treatments_n\n",
    "\n",
    "for repetition in tqdm(range(bootstrap_n)):\n",
    "    recs_resample, _ = resample(recs, originals)\n",
    "    for treat_1, treat_2 in list(itertools.product(treats_ids, treats_ids)):\n",
    "\n",
    "        propensity_scores_1 = exploration_prob/N + (1 - exploration_prob)*originals[treat_1]\n",
    "        propensity_scores_2 = exploration_prob/N + (1 - exploration_prob)*originals[treat_2]\n",
    "\n",
    "        # Calculating Adjustment Formula\n",
    "        treat_data = recs.copy()\n",
    "        treat_data['propensity_scores_1'] = exploration_prob/N + (1 - exploration_prob)*originals[treat_1]\n",
    "        treat_data['propensity_scores_2'] = exploration_prob/N + (1 - exploration_prob)*originals[treat_2]\n",
    "\n",
    "        do_1 = 0\n",
    "        for control_vars, sub_data in treat_data.groupby('propensity_scores_1'):\n",
    "            prop = sub_data.shape[0]/treat_data.shape[0]\n",
    "            do_1 += sub_data[sub_data[treat_1] == 1].outcome.mean()*prop\n",
    "\n",
    "        do_2 = 0\n",
    "        for control_vars, sub_data in treat_data.groupby('propensity_scores_2'):\n",
    "            prop = sub_data.shape[0]/treat_data.shape[0]\n",
    "            do_2 += sub_data[sub_data[treat_2] == 1].outcome.mean()*prop\n",
    "\n",
    "        diff_treats_psa[repetition, treat_1, treat_2] = do_1 - do_2\n",
    "    scores_results_psa[repetition] = estimate_score(diff_treats_psa[repetition, :, :])\n",
    "    rmse_results_psa.append(rmse(diff_treats_psa[repetition, :, :], expected_diff_treats))"
   ]
  },
  {
   "cell_type": "markdown",
   "id": "a5656bb6",
   "metadata": {},
   "source": [
    "In comparison with the theoretical results"
   ]
  },
  {
   "cell_type": "code",
   "execution_count": 25,
   "id": "f675099f",
   "metadata": {},
   "outputs": [
    {
     "name": "stdout",
     "output_type": "stream",
     "text": [
      "RMSE with 95% confidence interval: 0.55 (0.55, 0.55)\n"
     ]
    },
    {
     "data": {
      "text/html": [
       "<div>\n",
       "<style scoped>\n",
       "    .dataframe tbody tr th:only-of-type {\n",
       "        vertical-align: middle;\n",
       "    }\n",
       "\n",
       "    .dataframe tbody tr th {\n",
       "        vertical-align: top;\n",
       "    }\n",
       "\n",
       "    .dataframe thead th {\n",
       "        text-align: right;\n",
       "    }\n",
       "</style>\n",
       "<table border=\"1\" class=\"dataframe\">\n",
       "  <thead>\n",
       "    <tr style=\"text-align: right;\">\n",
       "      <th></th>\n",
       "      <th>treatment_id</th>\n",
       "      <th>score</th>\n",
       "      <th>2.5%</th>\n",
       "      <th>97.5%</th>\n",
       "    </tr>\n",
       "  </thead>\n",
       "  <tbody>\n",
       "    <tr>\n",
       "      <th>3</th>\n",
       "      <td>3</td>\n",
       "      <td>0.142344</td>\n",
       "      <td>0.142344</td>\n",
       "      <td>0.142344</td>\n",
       "    </tr>\n",
       "    <tr>\n",
       "      <th>4</th>\n",
       "      <td>4</td>\n",
       "      <td>0.076123</td>\n",
       "      <td>0.076123</td>\n",
       "      <td>0.076123</td>\n",
       "    </tr>\n",
       "    <tr>\n",
       "      <th>2</th>\n",
       "      <td>2</td>\n",
       "      <td>-0.122881</td>\n",
       "      <td>-0.122881</td>\n",
       "      <td>-0.122881</td>\n",
       "    </tr>\n",
       "    <tr>\n",
       "      <th>0</th>\n",
       "      <td>0</td>\n",
       "      <td>-0.165489</td>\n",
       "      <td>-0.165489</td>\n",
       "      <td>-0.165489</td>\n",
       "    </tr>\n",
       "    <tr>\n",
       "      <th>1</th>\n",
       "      <td>1</td>\n",
       "      <td>-0.343819</td>\n",
       "      <td>-0.343819</td>\n",
       "      <td>-0.343819</td>\n",
       "    </tr>\n",
       "  </tbody>\n",
       "</table>\n",
       "</div>"
      ],
      "text/plain": [
       "   treatment_id     score      2.5%     97.5%\n",
       "3             3  0.142344  0.142344  0.142344\n",
       "4             4  0.076123  0.076123  0.076123\n",
       "2             2 -0.122881 -0.122881 -0.122881\n",
       "0             0 -0.165489 -0.165489 -0.165489\n",
       "1             1 -0.343819 -0.343819 -0.343819"
      ]
     },
     "execution_count": 25,
     "metadata": {},
     "output_type": "execute_result"
    }
   ],
   "source": [
    "rmse_quantiles = np.quantile(rmse_results_psa, [0.025, 0.5, 0.975])\n",
    "print(f\"RMSE with 95% confidence interval: {rmse_quantiles[1].round(2)} ({rmse_quantiles[0].round(2)}, {rmse_quantiles[2].round(2)})\")\n",
    "rank_scores(scores_results_psa)"
   ]
  },
  {
   "cell_type": "markdown",
   "id": "5435f760",
   "metadata": {},
   "source": [
    "# Our Method"
   ]
  },
  {
   "cell_type": "markdown",
   "id": "b64f8696",
   "metadata": {},
   "source": [
    "You can see that with our method we obtain a much lower RMSE, and the correct order of impact of the items"
   ]
  },
  {
   "cell_type": "code",
   "execution_count": 26,
   "id": "38791518",
   "metadata": {},
   "outputs": [
    {
     "name": "stderr",
     "output_type": "stream",
     "text": [
      "100%|█████████████████████████████████████████| 150/150 [15:14<00:00,  6.10s/it]\n"
     ]
    }
   ],
   "source": [
    "diff_treats = zeros((bootstrap_n, treatments_n, treatments_n))\n",
    "scores_results = zeros((bootstrap_n, treatments_n))\n",
    "rmse_results = []\n",
    "\n",
    "N = treatments_n\n",
    "q = exploration_prob/comb(N-2, k-1)\n",
    "\n",
    "for repetition in tqdm(range(bootstrap_n)):\n",
    "    recs_resample, originals_resample = resample(recs, originals)\n",
    "    recs_np = recs_resample[treats_ids].to_numpy()\n",
    "    originals_np = originals_resample[treats_ids].to_numpy()\n",
    "    for treat_1, treat_2 in list(itertools.product(treats_ids, treats_ids)):\n",
    "        if treat_1 < treat_2:\n",
    "            other_treatments = [t for t in treats_ids if t not in [treat_1, treat_2]]\n",
    "\n",
    "            # Calculate Propensity Scores\n",
    "            L = recs_np[:, other_treatments]*originals_np[:, other_treatments]\n",
    "            L += (1 -recs_np[:, other_treatments])*(1-originals_np[:, other_treatments])\n",
    "            L = (np.apply_along_axis(np.sum, 1, L) == N-2).astype(int)\n",
    "            eta = q/(q + L*(1-exploration_prob))\n",
    "            propensity_scores = eta/2 + L*originals_np[:, treat_1]*(1-eta)\n",
    "\n",
    "            # Calculating Adjustment Formula\n",
    "            inds = recs_np[:, treat_1] != recs_np[:, treat_2]\n",
    "            diff_data = recs_resample[inds]\n",
    "            diff_data['propensity_scores'] = propensity_scores[inds]\n",
    "\n",
    "            do_1 = 0\n",
    "            for control_vars, sub_data in diff_data.groupby('propensity_scores'):\n",
    "                prop = sub_data.shape[0]/diff_data.shape[0]\n",
    "                do_1 += sub_data[sub_data[treat_1] == 1].outcome.mean()*prop\n",
    "\n",
    "            n_ps_2 = 0\n",
    "            do_2 = 0\n",
    "            for control_vars, sub_data in diff_data.groupby('propensity_scores'):\n",
    "                prop = sub_data.shape[0]/diff_data.shape[0]\n",
    "                do_2 += sub_data[sub_data[treat_2] == 1].outcome.mean()*prop\n",
    "\n",
    "            diff_treats[repetition, treat_1, treat_2] = do_1 - do_2\n",
    "            diff_treats[repetition, treat_2, treat_1] = -do_1 + do_2\n",
    "    scores_results[repetition] = estimate_score(diff_treats[repetition, :, :])\n",
    "    rmse_results.append(rmse(diff_treats[repetition, :, :], expected_diff_treats))"
   ]
  },
  {
   "cell_type": "markdown",
   "id": "4150f0c4",
   "metadata": {},
   "source": [
    "In comparison with the theoretical results"
   ]
  },
  {
   "cell_type": "code",
   "execution_count": 27,
   "id": "a357b676",
   "metadata": {},
   "outputs": [
    {
     "name": "stdout",
     "output_type": "stream",
     "text": [
      "RMSE with 95% confidence interval: 0.14 (0.11, 0.19)\n"
     ]
    },
    {
     "data": {
      "text/html": [
       "<div>\n",
       "<style scoped>\n",
       "    .dataframe tbody tr th:only-of-type {\n",
       "        vertical-align: middle;\n",
       "    }\n",
       "\n",
       "    .dataframe tbody tr th {\n",
       "        vertical-align: top;\n",
       "    }\n",
       "\n",
       "    .dataframe thead th {\n",
       "        text-align: right;\n",
       "    }\n",
       "</style>\n",
       "<table border=\"1\" class=\"dataframe\">\n",
       "  <thead>\n",
       "    <tr style=\"text-align: right;\">\n",
       "      <th></th>\n",
       "      <th>treatment_id</th>\n",
       "      <th>score</th>\n",
       "      <th>2.5%</th>\n",
       "      <th>97.5%</th>\n",
       "    </tr>\n",
       "  </thead>\n",
       "  <tbody>\n",
       "    <tr>\n",
       "      <th>4</th>\n",
       "      <td>4</td>\n",
       "      <td>0.101193</td>\n",
       "      <td>0.023783</td>\n",
       "      <td>0.189443</td>\n",
       "    </tr>\n",
       "    <tr>\n",
       "      <th>3</th>\n",
       "      <td>3</td>\n",
       "      <td>-0.261578</td>\n",
       "      <td>-0.361204</td>\n",
       "      <td>-0.169561</td>\n",
       "    </tr>\n",
       "    <tr>\n",
       "      <th>2</th>\n",
       "      <td>2</td>\n",
       "      <td>-0.645838</td>\n",
       "      <td>-0.747105</td>\n",
       "      <td>-0.550263</td>\n",
       "    </tr>\n",
       "    <tr>\n",
       "      <th>1</th>\n",
       "      <td>1</td>\n",
       "      <td>-0.992695</td>\n",
       "      <td>-1.080399</td>\n",
       "      <td>-0.907004</td>\n",
       "    </tr>\n",
       "    <tr>\n",
       "      <th>0</th>\n",
       "      <td>0</td>\n",
       "      <td>-1.199278</td>\n",
       "      <td>-1.383191</td>\n",
       "      <td>-1.026278</td>\n",
       "    </tr>\n",
       "  </tbody>\n",
       "</table>\n",
       "</div>"
      ],
      "text/plain": [
       "   treatment_id     score      2.5%     97.5%\n",
       "4             4  0.101193  0.023783  0.189443\n",
       "3             3 -0.261578 -0.361204 -0.169561\n",
       "2             2 -0.645838 -0.747105 -0.550263\n",
       "1             1 -0.992695 -1.080399 -0.907004\n",
       "0             0 -1.199278 -1.383191 -1.026278"
      ]
     },
     "execution_count": 27,
     "metadata": {},
     "output_type": "execute_result"
    }
   ],
   "source": [
    "rmse_quantiles = np.quantile(rmse_results, [0.025, 0.5, 0.975])\n",
    "print(f\"RMSE with 95% confidence interval: {rmse_quantiles[1].round(2)} ({rmse_quantiles[0].round(2)}, {rmse_quantiles[2].round(2)})\")\n",
    "rank_scores(scores_results)"
   ]
  },
  {
   "cell_type": "markdown",
   "id": "c2cfd9be",
   "metadata": {},
   "source": [
    "# Table Results"
   ]
  },
  {
   "cell_type": "code",
   "execution_count": 30,
   "id": "1106816c",
   "metadata": {},
   "outputs": [
    {
     "data": {
      "text/plain": [
       "4    0.00\n",
       "3   -0.36\n",
       "2   -0.72\n",
       "1   -1.08\n",
       "0   -1.44\n",
       "Name: score, dtype: float64"
      ]
     },
     "execution_count": 30,
     "metadata": {},
     "output_type": "execute_result"
    }
   ],
   "source": [
    "rank_differences(expected_diff_treats)['score']"
   ]
  },
  {
   "cell_type": "code",
   "execution_count": 31,
   "id": "7bfe11b7",
   "metadata": {},
   "outputs": [
    {
     "data": {
      "text/html": [
       "<div>\n",
       "<style scoped>\n",
       "    .dataframe tbody tr th:only-of-type {\n",
       "        vertical-align: middle;\n",
       "    }\n",
       "\n",
       "    .dataframe tbody tr th {\n",
       "        vertical-align: top;\n",
       "    }\n",
       "\n",
       "    .dataframe thead th {\n",
       "        text-align: right;\n",
       "    }\n",
       "</style>\n",
       "<table border=\"1\" class=\"dataframe\">\n",
       "  <thead>\n",
       "    <tr style=\"text-align: right;\">\n",
       "      <th></th>\n",
       "      <th>treatment_id</th>\n",
       "      <th>score</th>\n",
       "      <th>score_ours</th>\n",
       "      <th>diff_ours</th>\n",
       "      <th>diff_position_ours</th>\n",
       "      <th>score_direct</th>\n",
       "      <th>diff_direct</th>\n",
       "      <th>diff_position_direct</th>\n",
       "      <th>score_incremental</th>\n",
       "      <th>diff_incremental</th>\n",
       "      <th>diff_position_incremental</th>\n",
       "      <th>score_psa</th>\n",
       "      <th>diff_psa</th>\n",
       "      <th>diff_position_psa</th>\n",
       "    </tr>\n",
       "  </thead>\n",
       "  <tbody>\n",
       "    <tr>\n",
       "      <th>0</th>\n",
       "      <td>4</td>\n",
       "      <td>0.00</td>\n",
       "      <td>0.10 (0.02, 0.19)</td>\n",
       "      <td>-0.101193</td>\n",
       "      <td>0</td>\n",
       "      <td>-0.22 (-0.27, -0.15)</td>\n",
       "      <td>0.220079</td>\n",
       "      <td>-1</td>\n",
       "      <td>0.27 (0.12, 0.41)</td>\n",
       "      <td>-0.270153</td>\n",
       "      <td>-1</td>\n",
       "      <td>0.08 (0.08, 0.08)</td>\n",
       "      <td>-0.076123</td>\n",
       "      <td>-1</td>\n",
       "    </tr>\n",
       "    <tr>\n",
       "      <th>1</th>\n",
       "      <td>3</td>\n",
       "      <td>-0.36</td>\n",
       "      <td>-0.26 (-0.36, -0.17)</td>\n",
       "      <td>-0.098422</td>\n",
       "      <td>0</td>\n",
       "      <td>3.58 (3.52, 3.63)</td>\n",
       "      <td>-3.937970</td>\n",
       "      <td>1</td>\n",
       "      <td>7.46 (7.32, 7.59)</td>\n",
       "      <td>-7.817222</td>\n",
       "      <td>1</td>\n",
       "      <td>0.14 (0.14, 0.14)</td>\n",
       "      <td>-0.502344</td>\n",
       "      <td>1</td>\n",
       "    </tr>\n",
       "    <tr>\n",
       "      <th>2</th>\n",
       "      <td>2</td>\n",
       "      <td>-0.72</td>\n",
       "      <td>-0.65 (-0.75, -0.55)</td>\n",
       "      <td>-0.074162</td>\n",
       "      <td>0</td>\n",
       "      <td>-0.41 (-0.47, -0.37)</td>\n",
       "      <td>-0.305248</td>\n",
       "      <td>0</td>\n",
       "      <td>-0.49 (-0.60, -0.38)</td>\n",
       "      <td>-0.225138</td>\n",
       "      <td>0</td>\n",
       "      <td>-0.12 (-0.12, -0.12)</td>\n",
       "      <td>-0.597119</td>\n",
       "      <td>0</td>\n",
       "    </tr>\n",
       "    <tr>\n",
       "      <th>3</th>\n",
       "      <td>1</td>\n",
       "      <td>-1.08</td>\n",
       "      <td>-0.99 (-1.08, -0.91)</td>\n",
       "      <td>-0.087305</td>\n",
       "      <td>0</td>\n",
       "      <td>-3.64 (-3.68, -3.59)</td>\n",
       "      <td>2.555962</td>\n",
       "      <td>-1</td>\n",
       "      <td>-8.64 (-8.77, -8.50)</td>\n",
       "      <td>7.561890</td>\n",
       "      <td>-1</td>\n",
       "      <td>-0.34 (-0.34, -0.34)</td>\n",
       "      <td>-0.736181</td>\n",
       "      <td>-1</td>\n",
       "    </tr>\n",
       "    <tr>\n",
       "      <th>4</th>\n",
       "      <td>0</td>\n",
       "      <td>-1.44</td>\n",
       "      <td>-1.20 (-1.38, -1.03)</td>\n",
       "      <td>-0.240722</td>\n",
       "      <td>0</td>\n",
       "      <td>-0.46 (-0.53, -0.40)</td>\n",
       "      <td>-0.978118</td>\n",
       "      <td>1</td>\n",
       "      <td>-0.94 (-1.17, -0.72)</td>\n",
       "      <td>-0.500416</td>\n",
       "      <td>1</td>\n",
       "      <td>-0.17 (-0.17, -0.17)</td>\n",
       "      <td>-1.274511</td>\n",
       "      <td>1</td>\n",
       "    </tr>\n",
       "  </tbody>\n",
       "</table>\n",
       "</div>"
      ],
      "text/plain": [
       "   treatment_id  score            score_ours  diff_ours  diff_position_ours  \\\n",
       "0             4   0.00     0.10 (0.02, 0.19)  -0.101193                   0   \n",
       "1             3  -0.36  -0.26 (-0.36, -0.17)  -0.098422                   0   \n",
       "2             2  -0.72  -0.65 (-0.75, -0.55)  -0.074162                   0   \n",
       "3             1  -1.08  -0.99 (-1.08, -0.91)  -0.087305                   0   \n",
       "4             0  -1.44  -1.20 (-1.38, -1.03)  -0.240722                   0   \n",
       "\n",
       "           score_direct  diff_direct  diff_position_direct  \\\n",
       "0  -0.22 (-0.27, -0.15)     0.220079                    -1   \n",
       "1     3.58 (3.52, 3.63)    -3.937970                     1   \n",
       "2  -0.41 (-0.47, -0.37)    -0.305248                     0   \n",
       "3  -3.64 (-3.68, -3.59)     2.555962                    -1   \n",
       "4  -0.46 (-0.53, -0.40)    -0.978118                     1   \n",
       "\n",
       "      score_incremental  diff_incremental  diff_position_incremental  \\\n",
       "0     0.27 (0.12, 0.41)         -0.270153                         -1   \n",
       "1     7.46 (7.32, 7.59)         -7.817222                          1   \n",
       "2  -0.49 (-0.60, -0.38)         -0.225138                          0   \n",
       "3  -8.64 (-8.77, -8.50)          7.561890                         -1   \n",
       "4  -0.94 (-1.17, -0.72)         -0.500416                          1   \n",
       "\n",
       "              score_psa  diff_psa  diff_position_psa  \n",
       "0     0.08 (0.08, 0.08) -0.076123                 -1  \n",
       "1     0.14 (0.14, 0.14) -0.502344                  1  \n",
       "2  -0.12 (-0.12, -0.12) -0.597119                  0  \n",
       "3  -0.34 (-0.34, -0.34) -0.736181                 -1  \n",
       "4  -0.17 (-0.17, -0.17) -1.274511                  1  "
      ]
     },
     "execution_count": 31,
     "metadata": {},
     "output_type": "execute_result"
    }
   ],
   "source": [
    "res_0 = pd.DataFrame({\n",
    "    'score': rank_differences(expected_diff_treats)['score']\n",
    "})\n",
    "\n",
    "tables = [\n",
    "    rank_scores(scores_results), \n",
    "    rank_scores(scores_results_0),\n",
    "    rank_scores(scores_results_0_inc),\n",
    "    rank_scores(scores_results_psa),\n",
    "    \n",
    "]\n",
    "names = ['ours', 'direct', 'incremental', 'psa']\n",
    "final_table = table_results(res_0, tables, names)\n",
    "final_table"
   ]
  },
  {
   "cell_type": "code",
   "execution_count": 33,
   "id": "fdd46fce",
   "metadata": {
    "scrolled": true
   },
   "outputs": [
    {
     "name": "stdout",
     "output_type": "stream",
     "text": [
      "Ours\n",
      "0.14 (0.11, 0.19)\n",
      "Direct\n",
      "2.96 (2.93, 3.0)\n",
      "Incremental\n",
      "6.88 (6.79, 6.95)\n",
      "PSA\n",
      "0.55 (0.55, 0.55)\n"
     ]
    }
   ],
   "source": [
    "print('Ours')\n",
    "rmse_quantiles = np.quantile(rmse_results, [0.025, 0.5, 0.975])\n",
    "print(f\"{rmse_quantiles[1].round(2)} ({rmse_quantiles[0].round(2)}, {rmse_quantiles[2].round(2)})\")\n",
    "\n",
    "print('Direct')\n",
    "rmse_quantiles = np.quantile(rmse_results_0, [0.025, 0.5, 0.975])\n",
    "print(f\"{rmse_quantiles[1].round(2)} ({rmse_quantiles[0].round(2)}, {rmse_quantiles[2].round(2)})\")\n",
    "\n",
    "print('Incremental')\n",
    "rmse_quantiles = np.quantile(rmse_results_0_inc, [0.025, 0.5, 0.975])\n",
    "print(f\"{rmse_quantiles[1].round(2)} ({rmse_quantiles[0].round(2)}, {rmse_quantiles[2].round(2)})\")\n",
    "\n",
    "print('PSA')\n",
    "rmse_quantiles = np.quantile(rmse_results_psa, [0.025, 0.5, 0.975])\n",
    "print(f\"{rmse_quantiles[1].round(2)} ({rmse_quantiles[0].round(2)}, {rmse_quantiles[2].round(2)})\")"
   ]
  },
  {
   "cell_type": "code",
   "execution_count": null,
   "id": "0f8dc412",
   "metadata": {},
   "outputs": [],
   "source": []
  }
 ],
 "metadata": {
  "kernelspec": {
   "display_name": "Python 3 (ipykernel)",
   "language": "python",
   "name": "python3"
  },
  "language_info": {
   "codemirror_mode": {
    "name": "ipython",
    "version": 3
   },
   "file_extension": ".py",
   "mimetype": "text/x-python",
   "name": "python",
   "nbconvert_exporter": "python",
   "pygments_lexer": "ipython3",
   "version": "3.11.0"
  }
 },
 "nbformat": 4,
 "nbformat_minor": 5
}
