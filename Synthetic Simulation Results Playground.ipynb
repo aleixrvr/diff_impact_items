{
 "cells": [
  {
   "cell_type": "code",
   "execution_count": 1,
   "id": "533e293b",
   "metadata": {},
   "outputs": [],
   "source": [
    "from numpy.random import choice, normal, uniform, binomial\n",
    "from numpy import sum, mean, zeros, array, NaN, floor, sqrt\n",
    "import pandas as pd\n",
    "from math import comb\n",
    "from numpy.random import seed\n",
    "import numpy as np\n",
    "import itertools\n",
    "from tqdm import tqdm"
   ]
  },
  {
   "cell_type": "code",
   "execution_count": 2,
   "id": "335c1393",
   "metadata": {},
   "outputs": [],
   "source": [
    "pd.options.mode.chained_assignment = None\n",
    "seed(1234)"
   ]
  },
  {
   "cell_type": "markdown",
   "id": "65a9969a",
   "metadata": {},
   "source": [
    "# Simulating Data"
   ]
  },
  {
   "cell_type": "markdown",
   "id": "d9ec1943",
   "metadata": {},
   "source": [
    "We will simulate two types of users (enthusiasts and normal), with proportion `prob_enthusiast`. Enthusiast have a higher impact on the outcome `enthusiast_effect` and also a higher acceptance rate `inc_enth_cons` of doing the recommended items. So the type of users is an **unobserved confounder**. \n",
    "\n",
    "Each user does `sessions_n` sessions, and at each session, there are only `k` items recommended. There is an underlying recommender system (the recommender system by default) that always recommends items 0:`k` for normal users, while always recommends the last `k` items to enthusiasts. Every session, with probability `exploration_prob` the items are recommended uniformly at random. \n",
    "\n",
    "The outcome is calculated as follows. Each treatment `i` has an additve causal impact of `i` (to make it easy the index of the item is the same causal impact). The outcome is the addition of each item consumed, plus some noise `delta`. As already said, enthusiast have an extra bonus of `enthusiast_effect` in the outcome."
   ]
  },
  {
   "cell_type": "code",
   "execution_count": 3,
   "id": "780803cf",
   "metadata": {},
   "outputs": [],
   "source": [
    "treatments_n = 4\n",
    "patients_n = 10000\n",
    "sessions_n = 2\n",
    "k = 2\n",
    "delta = 0.1\n",
    "exploration_prob = 0.5\n",
    "\n",
    "prob_enthusiast = 0.4\n",
    "enthusiast_effect = 10\n",
    "base_consumption = 0.2\n",
    "inc_enth_cons = 0.4"
   ]
  },
  {
   "cell_type": "code",
   "execution_count": 4,
   "id": "fd7499df",
   "metadata": {
    "scrolled": true
   },
   "outputs": [],
   "source": [
    "ids = []\n",
    "sessions = []\n",
    "patient_types = []\n",
    "treatments = []\n",
    "recommendations = []\n",
    "consumptions = []\n",
    "originals = []\n",
    "explorations = []\n",
    "\n",
    "treats_ids = list(range(treatments_n))\n",
    "\n",
    "k_i = int(floor(k/2))\n",
    "k_e = int(k - k_i)\n",
    "\n",
    "k_i = 1\n",
    "k_e = k - 1\n",
    "\n",
    "\n",
    "for id in range(patients_n):\n",
    "    patient_type = choice([0, 1], size=1, p=[1-prob_enthusiast, prob_enthusiast])[0]\n",
    "    for session in range(sessions_n):\n",
    "        exploration = binomial(1, exploration_prob, size=1)[0]\n",
    "        original = None\n",
    "        if patient_type == 1:\n",
    "            #original = treats_ids[:k]\n",
    "            original = treats_ids[:k_i] + treats_ids[-k_e:]\n",
    "        else:\n",
    "            #original = treats_ids[-k:]\n",
    "            original = treats_ids[:k_e] + treats_ids[-k_i:]\n",
    "        if exploration == 1:\n",
    "            recommended = choice(treats_ids, size=k, replace=False)\n",
    "        else:\n",
    "            recommended = original\n",
    "            \n",
    "        recommended = [int(treat in recommended) for treat in treats_ids]     \n",
    "        original = [int(treat in original) for treat in treats_ids]     \n",
    "        \n",
    "        consumption = []\n",
    "        for treat in range(treatments_n):\n",
    "            score_assign = base_consumption + inc_enth_cons*patient_type\n",
    "            item_cons = int(uniform(size=1)[0] <= score_assign)\n",
    "            item_cons *= recommended[treat]\n",
    "            consumption.append(item_cons)\n",
    "        \n",
    "        ids += [id]*treatments_n\n",
    "        sessions += [session]*treatments_n\n",
    "        patient_types += [patient_type]*treatments_n\n",
    "        treatments += treats_ids\n",
    "        recommendations += recommended\n",
    "        consumptions += consumption\n",
    "        explorations += [exploration]*treatments_n\n",
    "        originals += original\n",
    "    \n",
    "df = pd.DataFrame({\n",
    "    'id': ids,\n",
    "    'session': sessions, \n",
    "    'patient_type': patient_types,\n",
    "    'treatment': treatments, \n",
    "    'original': originals,\n",
    "    'recommended': recommendations,\n",
    "    'consumed': consumptions,\n",
    "    'exploration': explorations\n",
    "})\n",
    "\n",
    "outcomes = df.groupby('id').apply(lambda x: \n",
    "    (sum(x['treatment']*x['consumed']) + \n",
    "    mean(x['patient_type'])*enthusiast_effect + \n",
    "    normal(size=1, scale=delta))[0]\n",
    ").reset_index()\n",
    "outcomes.rename(columns={0:'outcome'}, inplace = True)\n",
    "df = df.merge(outcomes, on='id')"
   ]
  },
  {
   "cell_type": "code",
   "execution_count": 5,
   "id": "b3723223",
   "metadata": {},
   "outputs": [
    {
     "data": {
      "text/html": [
       "<div>\n",
       "<style scoped>\n",
       "    .dataframe tbody tr th:only-of-type {\n",
       "        vertical-align: middle;\n",
       "    }\n",
       "\n",
       "    .dataframe tbody tr th {\n",
       "        vertical-align: top;\n",
       "    }\n",
       "\n",
       "    .dataframe thead th {\n",
       "        text-align: right;\n",
       "    }\n",
       "</style>\n",
       "<table border=\"1\" class=\"dataframe\">\n",
       "  <thead>\n",
       "    <tr style=\"text-align: right;\">\n",
       "      <th></th>\n",
       "      <th>id</th>\n",
       "      <th>session</th>\n",
       "      <th>patient_type</th>\n",
       "      <th>treatment</th>\n",
       "      <th>original</th>\n",
       "      <th>recommended</th>\n",
       "      <th>consumed</th>\n",
       "      <th>exploration</th>\n",
       "      <th>outcome</th>\n",
       "    </tr>\n",
       "  </thead>\n",
       "  <tbody>\n",
       "    <tr>\n",
       "      <th>0</th>\n",
       "      <td>0</td>\n",
       "      <td>0</td>\n",
       "      <td>0</td>\n",
       "      <td>0</td>\n",
       "      <td>1</td>\n",
       "      <td>0</td>\n",
       "      <td>0</td>\n",
       "      <td>1</td>\n",
       "      <td>2.016204</td>\n",
       "    </tr>\n",
       "    <tr>\n",
       "      <th>1</th>\n",
       "      <td>0</td>\n",
       "      <td>0</td>\n",
       "      <td>0</td>\n",
       "      <td>1</td>\n",
       "      <td>0</td>\n",
       "      <td>1</td>\n",
       "      <td>0</td>\n",
       "      <td>1</td>\n",
       "      <td>2.016204</td>\n",
       "    </tr>\n",
       "    <tr>\n",
       "      <th>2</th>\n",
       "      <td>0</td>\n",
       "      <td>0</td>\n",
       "      <td>0</td>\n",
       "      <td>2</td>\n",
       "      <td>0</td>\n",
       "      <td>1</td>\n",
       "      <td>1</td>\n",
       "      <td>1</td>\n",
       "      <td>2.016204</td>\n",
       "    </tr>\n",
       "    <tr>\n",
       "      <th>3</th>\n",
       "      <td>0</td>\n",
       "      <td>0</td>\n",
       "      <td>0</td>\n",
       "      <td>3</td>\n",
       "      <td>1</td>\n",
       "      <td>0</td>\n",
       "      <td>0</td>\n",
       "      <td>1</td>\n",
       "      <td>2.016204</td>\n",
       "    </tr>\n",
       "    <tr>\n",
       "      <th>4</th>\n",
       "      <td>0</td>\n",
       "      <td>1</td>\n",
       "      <td>0</td>\n",
       "      <td>0</td>\n",
       "      <td>1</td>\n",
       "      <td>0</td>\n",
       "      <td>0</td>\n",
       "      <td>1</td>\n",
       "      <td>2.016204</td>\n",
       "    </tr>\n",
       "    <tr>\n",
       "      <th>5</th>\n",
       "      <td>0</td>\n",
       "      <td>1</td>\n",
       "      <td>0</td>\n",
       "      <td>1</td>\n",
       "      <td>0</td>\n",
       "      <td>1</td>\n",
       "      <td>0</td>\n",
       "      <td>1</td>\n",
       "      <td>2.016204</td>\n",
       "    </tr>\n",
       "    <tr>\n",
       "      <th>6</th>\n",
       "      <td>0</td>\n",
       "      <td>1</td>\n",
       "      <td>0</td>\n",
       "      <td>2</td>\n",
       "      <td>0</td>\n",
       "      <td>0</td>\n",
       "      <td>0</td>\n",
       "      <td>1</td>\n",
       "      <td>2.016204</td>\n",
       "    </tr>\n",
       "    <tr>\n",
       "      <th>7</th>\n",
       "      <td>0</td>\n",
       "      <td>1</td>\n",
       "      <td>0</td>\n",
       "      <td>3</td>\n",
       "      <td>1</td>\n",
       "      <td>1</td>\n",
       "      <td>0</td>\n",
       "      <td>1</td>\n",
       "      <td>2.016204</td>\n",
       "    </tr>\n",
       "    <tr>\n",
       "      <th>8</th>\n",
       "      <td>1</td>\n",
       "      <td>0</td>\n",
       "      <td>0</td>\n",
       "      <td>0</td>\n",
       "      <td>1</td>\n",
       "      <td>0</td>\n",
       "      <td>0</td>\n",
       "      <td>1</td>\n",
       "      <td>-0.064395</td>\n",
       "    </tr>\n",
       "    <tr>\n",
       "      <th>9</th>\n",
       "      <td>1</td>\n",
       "      <td>0</td>\n",
       "      <td>0</td>\n",
       "      <td>1</td>\n",
       "      <td>0</td>\n",
       "      <td>1</td>\n",
       "      <td>0</td>\n",
       "      <td>1</td>\n",
       "      <td>-0.064395</td>\n",
       "    </tr>\n",
       "    <tr>\n",
       "      <th>10</th>\n",
       "      <td>1</td>\n",
       "      <td>0</td>\n",
       "      <td>0</td>\n",
       "      <td>2</td>\n",
       "      <td>0</td>\n",
       "      <td>1</td>\n",
       "      <td>0</td>\n",
       "      <td>1</td>\n",
       "      <td>-0.064395</td>\n",
       "    </tr>\n",
       "    <tr>\n",
       "      <th>11</th>\n",
       "      <td>1</td>\n",
       "      <td>0</td>\n",
       "      <td>0</td>\n",
       "      <td>3</td>\n",
       "      <td>1</td>\n",
       "      <td>0</td>\n",
       "      <td>0</td>\n",
       "      <td>1</td>\n",
       "      <td>-0.064395</td>\n",
       "    </tr>\n",
       "    <tr>\n",
       "      <th>12</th>\n",
       "      <td>1</td>\n",
       "      <td>1</td>\n",
       "      <td>0</td>\n",
       "      <td>0</td>\n",
       "      <td>1</td>\n",
       "      <td>1</td>\n",
       "      <td>0</td>\n",
       "      <td>0</td>\n",
       "      <td>-0.064395</td>\n",
       "    </tr>\n",
       "    <tr>\n",
       "      <th>13</th>\n",
       "      <td>1</td>\n",
       "      <td>1</td>\n",
       "      <td>0</td>\n",
       "      <td>1</td>\n",
       "      <td>0</td>\n",
       "      <td>0</td>\n",
       "      <td>0</td>\n",
       "      <td>0</td>\n",
       "      <td>-0.064395</td>\n",
       "    </tr>\n",
       "    <tr>\n",
       "      <th>14</th>\n",
       "      <td>1</td>\n",
       "      <td>1</td>\n",
       "      <td>0</td>\n",
       "      <td>2</td>\n",
       "      <td>0</td>\n",
       "      <td>0</td>\n",
       "      <td>0</td>\n",
       "      <td>0</td>\n",
       "      <td>-0.064395</td>\n",
       "    </tr>\n",
       "    <tr>\n",
       "      <th>15</th>\n",
       "      <td>1</td>\n",
       "      <td>1</td>\n",
       "      <td>0</td>\n",
       "      <td>3</td>\n",
       "      <td>1</td>\n",
       "      <td>1</td>\n",
       "      <td>0</td>\n",
       "      <td>0</td>\n",
       "      <td>-0.064395</td>\n",
       "    </tr>\n",
       "  </tbody>\n",
       "</table>\n",
       "</div>"
      ],
      "text/plain": [
       "    id  session  patient_type  treatment  original  recommended  consumed  \\\n",
       "0    0        0             0          0         1            0         0   \n",
       "1    0        0             0          1         0            1         0   \n",
       "2    0        0             0          2         0            1         1   \n",
       "3    0        0             0          3         1            0         0   \n",
       "4    0        1             0          0         1            0         0   \n",
       "5    0        1             0          1         0            1         0   \n",
       "6    0        1             0          2         0            0         0   \n",
       "7    0        1             0          3         1            1         0   \n",
       "8    1        0             0          0         1            0         0   \n",
       "9    1        0             0          1         0            1         0   \n",
       "10   1        0             0          2         0            1         0   \n",
       "11   1        0             0          3         1            0         0   \n",
       "12   1        1             0          0         1            1         0   \n",
       "13   1        1             0          1         0            0         0   \n",
       "14   1        1             0          2         0            0         0   \n",
       "15   1        1             0          3         1            1         0   \n",
       "\n",
       "    exploration   outcome  \n",
       "0             1  2.016204  \n",
       "1             1  2.016204  \n",
       "2             1  2.016204  \n",
       "3             1  2.016204  \n",
       "4             1  2.016204  \n",
       "5             1  2.016204  \n",
       "6             1  2.016204  \n",
       "7             1  2.016204  \n",
       "8             1 -0.064395  \n",
       "9             1 -0.064395  \n",
       "10            1 -0.064395  \n",
       "11            1 -0.064395  \n",
       "12            0 -0.064395  \n",
       "13            0 -0.064395  \n",
       "14            0 -0.064395  \n",
       "15            0 -0.064395  "
      ]
     },
     "execution_count": 5,
     "metadata": {},
     "output_type": "execute_result"
    }
   ],
   "source": [
    "df.head(n=sessions_n*treatments_n*2)"
   ]
  },
  {
   "cell_type": "code",
   "execution_count": 6,
   "id": "a178f0c1",
   "metadata": {},
   "outputs": [],
   "source": [
    "recs = df.pivot(index=['id', 'session', 'exploration'], columns='treatment', values='recommended').reset_index().merge(outcomes, on='id')\n",
    "consumes = df.pivot(index=['id', 'session', 'exploration'], columns='treatment', values='consumed').reset_index().merge(outcomes, on='id')\n",
    "originals = df.pivot(index=['id', 'session', 'exploration'], columns='treatment', values='original').reset_index().merge(outcomes, on='id')"
   ]
  },
  {
   "cell_type": "code",
   "execution_count": 7,
   "id": "5c377961",
   "metadata": {},
   "outputs": [
    {
     "data": {
      "text/html": [
       "<div>\n",
       "<style scoped>\n",
       "    .dataframe tbody tr th:only-of-type {\n",
       "        vertical-align: middle;\n",
       "    }\n",
       "\n",
       "    .dataframe tbody tr th {\n",
       "        vertical-align: top;\n",
       "    }\n",
       "\n",
       "    .dataframe thead th {\n",
       "        text-align: right;\n",
       "    }\n",
       "</style>\n",
       "<table border=\"1\" class=\"dataframe\">\n",
       "  <thead>\n",
       "    <tr style=\"text-align: right;\">\n",
       "      <th></th>\n",
       "      <th>id</th>\n",
       "      <th>session</th>\n",
       "      <th>exploration</th>\n",
       "      <th>0</th>\n",
       "      <th>1</th>\n",
       "      <th>2</th>\n",
       "      <th>3</th>\n",
       "      <th>outcome</th>\n",
       "    </tr>\n",
       "  </thead>\n",
       "  <tbody>\n",
       "    <tr>\n",
       "      <th>0</th>\n",
       "      <td>0</td>\n",
       "      <td>0</td>\n",
       "      <td>1</td>\n",
       "      <td>0</td>\n",
       "      <td>1</td>\n",
       "      <td>1</td>\n",
       "      <td>0</td>\n",
       "      <td>2.016204</td>\n",
       "    </tr>\n",
       "    <tr>\n",
       "      <th>1</th>\n",
       "      <td>0</td>\n",
       "      <td>1</td>\n",
       "      <td>1</td>\n",
       "      <td>0</td>\n",
       "      <td>1</td>\n",
       "      <td>0</td>\n",
       "      <td>1</td>\n",
       "      <td>2.016204</td>\n",
       "    </tr>\n",
       "  </tbody>\n",
       "</table>\n",
       "</div>"
      ],
      "text/plain": [
       "   id  session  exploration  0  1  2  3   outcome\n",
       "0   0        0            1  0  1  1  0  2.016204\n",
       "1   0        1            1  0  1  0  1  2.016204"
      ]
     },
     "execution_count": 7,
     "metadata": {},
     "output_type": "execute_result"
    }
   ],
   "source": [
    "recs.head(sessions_n)"
   ]
  },
  {
   "cell_type": "code",
   "execution_count": 8,
   "id": "33a7b878",
   "metadata": {},
   "outputs": [
    {
     "data": {
      "text/html": [
       "<div>\n",
       "<style scoped>\n",
       "    .dataframe tbody tr th:only-of-type {\n",
       "        vertical-align: middle;\n",
       "    }\n",
       "\n",
       "    .dataframe tbody tr th {\n",
       "        vertical-align: top;\n",
       "    }\n",
       "\n",
       "    .dataframe thead th {\n",
       "        text-align: right;\n",
       "    }\n",
       "</style>\n",
       "<table border=\"1\" class=\"dataframe\">\n",
       "  <thead>\n",
       "    <tr style=\"text-align: right;\">\n",
       "      <th></th>\n",
       "      <th>id</th>\n",
       "      <th>session</th>\n",
       "      <th>exploration</th>\n",
       "      <th>0</th>\n",
       "      <th>1</th>\n",
       "      <th>2</th>\n",
       "      <th>3</th>\n",
       "      <th>outcome</th>\n",
       "    </tr>\n",
       "  </thead>\n",
       "  <tbody>\n",
       "    <tr>\n",
       "      <th>0</th>\n",
       "      <td>0</td>\n",
       "      <td>0</td>\n",
       "      <td>1</td>\n",
       "      <td>0</td>\n",
       "      <td>0</td>\n",
       "      <td>1</td>\n",
       "      <td>0</td>\n",
       "      <td>2.016204</td>\n",
       "    </tr>\n",
       "    <tr>\n",
       "      <th>1</th>\n",
       "      <td>0</td>\n",
       "      <td>1</td>\n",
       "      <td>1</td>\n",
       "      <td>0</td>\n",
       "      <td>0</td>\n",
       "      <td>0</td>\n",
       "      <td>0</td>\n",
       "      <td>2.016204</td>\n",
       "    </tr>\n",
       "  </tbody>\n",
       "</table>\n",
       "</div>"
      ],
      "text/plain": [
       "   id  session  exploration  0  1  2  3   outcome\n",
       "0   0        0            1  0  0  1  0  2.016204\n",
       "1   0        1            1  0  0  0  0  2.016204"
      ]
     },
     "execution_count": 8,
     "metadata": {},
     "output_type": "execute_result"
    }
   ],
   "source": [
    "consumes.head(sessions_n)"
   ]
  },
  {
   "cell_type": "code",
   "execution_count": 9,
   "id": "a7fa4dc9",
   "metadata": {},
   "outputs": [
    {
     "data": {
      "text/html": [
       "<div>\n",
       "<style scoped>\n",
       "    .dataframe tbody tr th:only-of-type {\n",
       "        vertical-align: middle;\n",
       "    }\n",
       "\n",
       "    .dataframe tbody tr th {\n",
       "        vertical-align: top;\n",
       "    }\n",
       "\n",
       "    .dataframe thead th {\n",
       "        text-align: right;\n",
       "    }\n",
       "</style>\n",
       "<table border=\"1\" class=\"dataframe\">\n",
       "  <thead>\n",
       "    <tr style=\"text-align: right;\">\n",
       "      <th></th>\n",
       "      <th>id</th>\n",
       "      <th>session</th>\n",
       "      <th>exploration</th>\n",
       "      <th>0</th>\n",
       "      <th>1</th>\n",
       "      <th>2</th>\n",
       "      <th>3</th>\n",
       "      <th>outcome</th>\n",
       "    </tr>\n",
       "  </thead>\n",
       "  <tbody>\n",
       "    <tr>\n",
       "      <th>0</th>\n",
       "      <td>0</td>\n",
       "      <td>0</td>\n",
       "      <td>1</td>\n",
       "      <td>1</td>\n",
       "      <td>0</td>\n",
       "      <td>0</td>\n",
       "      <td>1</td>\n",
       "      <td>2.016204</td>\n",
       "    </tr>\n",
       "    <tr>\n",
       "      <th>1</th>\n",
       "      <td>0</td>\n",
       "      <td>1</td>\n",
       "      <td>1</td>\n",
       "      <td>1</td>\n",
       "      <td>0</td>\n",
       "      <td>0</td>\n",
       "      <td>1</td>\n",
       "      <td>2.016204</td>\n",
       "    </tr>\n",
       "  </tbody>\n",
       "</table>\n",
       "</div>"
      ],
      "text/plain": [
       "   id  session  exploration  0  1  2  3   outcome\n",
       "0   0        0            1  1  0  0  1  2.016204\n",
       "1   0        1            1  1  0  0  1  2.016204"
      ]
     },
     "execution_count": 9,
     "metadata": {},
     "output_type": "execute_result"
    }
   ],
   "source": [
    "originals.head(sessions_n)"
   ]
  },
  {
   "cell_type": "markdown",
   "id": "85a68fb5",
   "metadata": {},
   "source": [
    "# Basic Stats"
   ]
  },
  {
   "cell_type": "code",
   "execution_count": 10,
   "id": "1b129309",
   "metadata": {},
   "outputs": [
    {
     "data": {
      "text/html": [
       "<div>\n",
       "<style scoped>\n",
       "    .dataframe tbody tr th:only-of-type {\n",
       "        vertical-align: middle;\n",
       "    }\n",
       "\n",
       "    .dataframe tbody tr th {\n",
       "        vertical-align: top;\n",
       "    }\n",
       "\n",
       "    .dataframe thead th {\n",
       "        text-align: right;\n",
       "    }\n",
       "</style>\n",
       "<table border=\"1\" class=\"dataframe\">\n",
       "  <thead>\n",
       "    <tr style=\"text-align: right;\">\n",
       "      <th></th>\n",
       "      <th>patient_type</th>\n",
       "      <th>consumed</th>\n",
       "    </tr>\n",
       "  </thead>\n",
       "  <tbody>\n",
       "    <tr>\n",
       "      <th>0</th>\n",
       "      <td>0</td>\n",
       "      <td>0.197432</td>\n",
       "    </tr>\n",
       "    <tr>\n",
       "      <th>1</th>\n",
       "      <td>1</td>\n",
       "      <td>0.597766</td>\n",
       "    </tr>\n",
       "  </tbody>\n",
       "</table>\n",
       "</div>"
      ],
      "text/plain": [
       "   patient_type  consumed\n",
       "0             0  0.197432\n",
       "1             1  0.597766"
      ]
     },
     "execution_count": 10,
     "metadata": {},
     "output_type": "execute_result"
    }
   ],
   "source": [
    "res = df[df.recommended==1].groupby('patient_type').consumed.mean().reset_index()\n",
    "res"
   ]
  },
  {
   "cell_type": "code",
   "execution_count": 11,
   "id": "3b4eead4",
   "metadata": {},
   "outputs": [
    {
     "data": {
      "text/html": [
       "<div>\n",
       "<style scoped>\n",
       "    .dataframe tbody tr th:only-of-type {\n",
       "        vertical-align: middle;\n",
       "    }\n",
       "\n",
       "    .dataframe tbody tr th {\n",
       "        vertical-align: top;\n",
       "    }\n",
       "\n",
       "    .dataframe thead th {\n",
       "        text-align: right;\n",
       "    }\n",
       "</style>\n",
       "<table border=\"1\" class=\"dataframe\">\n",
       "  <thead>\n",
       "    <tr style=\"text-align: right;\">\n",
       "      <th></th>\n",
       "      <th>patient_type</th>\n",
       "      <th>outcome</th>\n",
       "    </tr>\n",
       "  </thead>\n",
       "  <tbody>\n",
       "    <tr>\n",
       "      <th>0</th>\n",
       "      <td>0</td>\n",
       "      <td>1.194203</td>\n",
       "    </tr>\n",
       "    <tr>\n",
       "      <th>1</th>\n",
       "      <td>1</td>\n",
       "      <td>13.592953</td>\n",
       "    </tr>\n",
       "  </tbody>\n",
       "</table>\n",
       "</div>"
      ],
      "text/plain": [
       "   patient_type    outcome\n",
       "0             0   1.194203\n",
       "1             1  13.592953"
      ]
     },
     "execution_count": 11,
     "metadata": {},
     "output_type": "execute_result"
    }
   ],
   "source": [
    "res = df.groupby('patient_type').outcome.mean().reset_index()\n",
    "res"
   ]
  },
  {
   "cell_type": "markdown",
   "id": "5b6de9b5",
   "metadata": {},
   "source": [
    "# Helping functions"
   ]
  },
  {
   "cell_type": "code",
   "execution_count": 12,
   "id": "f2dc6cac",
   "metadata": {},
   "outputs": [],
   "source": [
    "def rmse(diff_1, diff_2):\n",
    "    return(sqrt(mean((diff_1 - diff_2)**2)))"
   ]
  },
  {
   "cell_type": "code",
   "execution_count": 13,
   "id": "5b810915",
   "metadata": {},
   "outputs": [],
   "source": [
    "def rank_differences_(results_0):\n",
    "    results = results_0.copy()\n",
    "    rank = results.iloc[:, 0]\n",
    "    for col in range(1, results.shape[0]):\n",
    "        rank += results.iloc[:, col] - results.iloc[col, 0]\n",
    "    rank /= results.shape[0]\n",
    "    return(rank.sort_values(ascending=False))"
   ]
  },
  {
   "cell_type": "code",
   "execution_count": 14,
   "id": "32b05b0b",
   "metadata": {},
   "outputs": [],
   "source": [
    "def rank_differences(results):\n",
    "    rank = results.iloc[:, 0].copy()\n",
    "    for col in range(1, results.shape[0]):\n",
    "        rank += results.iloc[:, col] - results.iloc[col, 0]\n",
    "    rank = rank/results.shape[0]\n",
    "    return(rank.sort_values(ascending=False))"
   ]
  },
  {
   "cell_type": "markdown",
   "id": "076acd76",
   "metadata": {},
   "source": [
    "# Real Impact of Recommendations"
   ]
  },
  {
   "cell_type": "markdown",
   "id": "8f74e826",
   "metadata": {},
   "source": [
    "This are the difference of causal impact between pairs of items"
   ]
  },
  {
   "cell_type": "code",
   "execution_count": 15,
   "id": "4868ae55",
   "metadata": {},
   "outputs": [
    {
     "data": {
      "text/html": [
       "<div>\n",
       "<style scoped>\n",
       "    .dataframe tbody tr th:only-of-type {\n",
       "        vertical-align: middle;\n",
       "    }\n",
       "\n",
       "    .dataframe tbody tr th {\n",
       "        vertical-align: top;\n",
       "    }\n",
       "\n",
       "    .dataframe thead th {\n",
       "        text-align: right;\n",
       "    }\n",
       "</style>\n",
       "<table border=\"1\" class=\"dataframe\">\n",
       "  <thead>\n",
       "    <tr style=\"text-align: right;\">\n",
       "      <th></th>\n",
       "      <th>0</th>\n",
       "      <th>1</th>\n",
       "      <th>2</th>\n",
       "      <th>3</th>\n",
       "    </tr>\n",
       "  </thead>\n",
       "  <tbody>\n",
       "    <tr>\n",
       "      <th>0</th>\n",
       "      <td>0.00</td>\n",
       "      <td>-0.36</td>\n",
       "      <td>-0.72</td>\n",
       "      <td>-1.08</td>\n",
       "    </tr>\n",
       "    <tr>\n",
       "      <th>1</th>\n",
       "      <td>0.36</td>\n",
       "      <td>0.00</td>\n",
       "      <td>-0.36</td>\n",
       "      <td>-0.72</td>\n",
       "    </tr>\n",
       "    <tr>\n",
       "      <th>2</th>\n",
       "      <td>0.72</td>\n",
       "      <td>0.36</td>\n",
       "      <td>0.00</td>\n",
       "      <td>-0.36</td>\n",
       "    </tr>\n",
       "    <tr>\n",
       "      <th>3</th>\n",
       "      <td>1.08</td>\n",
       "      <td>0.72</td>\n",
       "      <td>0.36</td>\n",
       "      <td>0.00</td>\n",
       "    </tr>\n",
       "  </tbody>\n",
       "</table>\n",
       "</div>"
      ],
      "text/plain": [
       "      0     1     2     3\n",
       "0  0.00 -0.36 -0.72 -1.08\n",
       "1  0.36  0.00 -0.36 -0.72\n",
       "2  0.72  0.36  0.00 -0.36\n",
       "3  1.08  0.72  0.36  0.00"
      ]
     },
     "execution_count": 15,
     "metadata": {},
     "output_type": "execute_result"
    }
   ],
   "source": [
    "expected_diff_treats = zeros((treatments_n, treatments_n))\n",
    "\n",
    "expected_compliers = base_consumption*(1-prob_enthusiast) + (base_consumption + inc_enth_cons)*prob_enthusiast\n",
    "\n",
    "for treat_1 in range(treatments_n):\n",
    "    for treat_2 in range(treatments_n):\n",
    "        expected_diff_treats[treat_1, treat_2] = (treat_1 - treat_2)*expected_compliers\n",
    "\n",
    "pd.DataFrame(expected_diff_treats.round(2))"
   ]
  },
  {
   "cell_type": "code",
   "execution_count": 16,
   "id": "68b38c95",
   "metadata": {},
   "outputs": [
    {
     "data": {
      "text/plain": [
       "3    0.00\n",
       "2   -0.36\n",
       "1   -0.72\n",
       "0   -1.08\n",
       "Name: 0, dtype: float64"
      ]
     },
     "execution_count": 16,
     "metadata": {},
     "output_type": "execute_result"
    }
   ],
   "source": [
    "rank_differences(pd.DataFrame(expected_diff_treats))"
   ]
  },
  {
   "cell_type": "code",
   "execution_count": 17,
   "id": "8ba8bce2",
   "metadata": {},
   "outputs": [
    {
     "data": {
      "text/html": [
       "<div>\n",
       "<style scoped>\n",
       "    .dataframe tbody tr th:only-of-type {\n",
       "        vertical-align: middle;\n",
       "    }\n",
       "\n",
       "    .dataframe tbody tr th {\n",
       "        vertical-align: top;\n",
       "    }\n",
       "\n",
       "    .dataframe thead th {\n",
       "        text-align: right;\n",
       "    }\n",
       "</style>\n",
       "<table border=\"1\" class=\"dataframe\">\n",
       "  <thead>\n",
       "    <tr style=\"text-align: right;\">\n",
       "      <th></th>\n",
       "      <th>0</th>\n",
       "      <th>1</th>\n",
       "      <th>2</th>\n",
       "      <th>3</th>\n",
       "    </tr>\n",
       "  </thead>\n",
       "  <tbody>\n",
       "    <tr>\n",
       "      <th>0</th>\n",
       "      <td>0.00</td>\n",
       "      <td>-0.36</td>\n",
       "      <td>-0.72</td>\n",
       "      <td>-1.08</td>\n",
       "    </tr>\n",
       "    <tr>\n",
       "      <th>1</th>\n",
       "      <td>0.36</td>\n",
       "      <td>0.00</td>\n",
       "      <td>-0.36</td>\n",
       "      <td>-0.72</td>\n",
       "    </tr>\n",
       "    <tr>\n",
       "      <th>2</th>\n",
       "      <td>0.72</td>\n",
       "      <td>0.36</td>\n",
       "      <td>0.00</td>\n",
       "      <td>-0.36</td>\n",
       "    </tr>\n",
       "    <tr>\n",
       "      <th>3</th>\n",
       "      <td>1.08</td>\n",
       "      <td>0.72</td>\n",
       "      <td>0.36</td>\n",
       "      <td>0.00</td>\n",
       "    </tr>\n",
       "  </tbody>\n",
       "</table>\n",
       "</div>"
      ],
      "text/plain": [
       "      0     1     2     3\n",
       "0  0.00 -0.36 -0.72 -1.08\n",
       "1  0.36  0.00 -0.36 -0.72\n",
       "2  0.72  0.36  0.00 -0.36\n",
       "3  1.08  0.72  0.36  0.00"
      ]
     },
     "execution_count": 17,
     "metadata": {},
     "output_type": "execute_result"
    }
   ],
   "source": [
    "pd.DataFrame(expected_diff_treats)"
   ]
  },
  {
   "cell_type": "markdown",
   "id": "c24774fb",
   "metadata": {},
   "source": [
    "# Direct Estimation Recommendations"
   ]
  },
  {
   "cell_type": "markdown",
   "id": "b9e3609d",
   "metadata": {},
   "source": [
    "This is the difference between recommendations obtained by trivial computations. The results are biased, leading to an incorrect order."
   ]
  },
  {
   "cell_type": "code",
   "execution_count": 18,
   "id": "6f435708",
   "metadata": {},
   "outputs": [
    {
     "data": {
      "text/html": [
       "<div>\n",
       "<style scoped>\n",
       "    .dataframe tbody tr th:only-of-type {\n",
       "        vertical-align: middle;\n",
       "    }\n",
       "\n",
       "    .dataframe tbody tr th {\n",
       "        vertical-align: top;\n",
       "    }\n",
       "\n",
       "    .dataframe thead th {\n",
       "        text-align: right;\n",
       "    }\n",
       "</style>\n",
       "<table border=\"1\" class=\"dataframe\">\n",
       "  <thead>\n",
       "    <tr style=\"text-align: right;\">\n",
       "      <th></th>\n",
       "      <th>0</th>\n",
       "      <th>1</th>\n",
       "      <th>2</th>\n",
       "      <th>3</th>\n",
       "    </tr>\n",
       "  </thead>\n",
       "  <tbody>\n",
       "    <tr>\n",
       "      <th>0</th>\n",
       "      <td>0.00</td>\n",
       "      <td>0.09</td>\n",
       "      <td>-0.26</td>\n",
       "      <td>-0.22</td>\n",
       "    </tr>\n",
       "    <tr>\n",
       "      <th>1</th>\n",
       "      <td>-0.09</td>\n",
       "      <td>0.00</td>\n",
       "      <td>-0.35</td>\n",
       "      <td>-0.31</td>\n",
       "    </tr>\n",
       "    <tr>\n",
       "      <th>2</th>\n",
       "      <td>0.26</td>\n",
       "      <td>0.35</td>\n",
       "      <td>0.00</td>\n",
       "      <td>0.04</td>\n",
       "    </tr>\n",
       "    <tr>\n",
       "      <th>3</th>\n",
       "      <td>0.22</td>\n",
       "      <td>0.31</td>\n",
       "      <td>-0.04</td>\n",
       "      <td>0.00</td>\n",
       "    </tr>\n",
       "  </tbody>\n",
       "</table>\n",
       "</div>"
      ],
      "text/plain": [
       "      0     1     2     3\n",
       "0  0.00  0.09 -0.26 -0.22\n",
       "1 -0.09  0.00 -0.35 -0.31\n",
       "2  0.26  0.35  0.00  0.04\n",
       "3  0.22  0.31 -0.04  0.00"
      ]
     },
     "execution_count": 18,
     "metadata": {},
     "output_type": "execute_result"
    }
   ],
   "source": [
    "diff_treats_0 = zeros((treatments_n, treatments_n))\n",
    "\n",
    "for treat_1 in range(treatments_n):\n",
    "    for treat_2 in range(treatments_n):\n",
    "        try: \n",
    "            inds_1_0 = recs.loc[:, treat_1] == 1\n",
    "            inds_2_0 = recs.loc[:, treat_2] == 1\n",
    "            res_1 = recs[inds_1_0].loc[:, 'outcome'].mean() - recs[inds_2_0].loc[:, 'outcome'].mean()\n",
    "        except:\n",
    "            res_1 = NaN\n",
    "        diff_treats_0[treat_1, treat_2] = res_1\n",
    "            \n",
    "pd.DataFrame(diff_treats_0.round(2))"
   ]
  },
  {
   "cell_type": "markdown",
   "id": "239db950",
   "metadata": {},
   "source": [
    "In comparison with the theoretical results"
   ]
  },
  {
   "cell_type": "code",
   "execution_count": 19,
   "id": "7c0af1ee",
   "metadata": {},
   "outputs": [
    {
     "name": "stdout",
     "output_type": "stream",
     "text": [
      "Root Mean Square Error: 0.4312691042196188\n",
      "Estimated Ranking\n"
     ]
    },
    {
     "data": {
      "text/plain": [
       "2    0.065\n",
       "3    0.025\n",
       "0   -0.195\n",
       "1   -0.285\n",
       "Name: 0, dtype: float64"
      ]
     },
     "execution_count": 19,
     "metadata": {},
     "output_type": "execute_result"
    }
   ],
   "source": [
    "print(\"Root Mean Square Error:\", rmse(expected_diff_treats, diff_treats_0))\n",
    "print(\"Estimated Ranking\")\n",
    "rank_differences(pd.DataFrame(diff_treats_0.round(2)))"
   ]
  },
  {
   "cell_type": "markdown",
   "id": "1bb34cc9",
   "metadata": {},
   "source": [
    "# Direct Increment Estimation Recommendations"
   ]
  },
  {
   "cell_type": "markdown",
   "id": "1dadb26f",
   "metadata": {},
   "source": [
    "An estimator based on the differences between when an item has been selected and when it is not. The results are biased, leading to an incorrect order."
   ]
  },
  {
   "cell_type": "code",
   "execution_count": 20,
   "id": "a2d5a53f",
   "metadata": {},
   "outputs": [
    {
     "data": {
      "text/html": [
       "<div>\n",
       "<style scoped>\n",
       "    .dataframe tbody tr th:only-of-type {\n",
       "        vertical-align: middle;\n",
       "    }\n",
       "\n",
       "    .dataframe tbody tr th {\n",
       "        vertical-align: top;\n",
       "    }\n",
       "\n",
       "    .dataframe thead th {\n",
       "        text-align: right;\n",
       "    }\n",
       "</style>\n",
       "<table border=\"1\" class=\"dataframe\">\n",
       "  <thead>\n",
       "    <tr style=\"text-align: right;\">\n",
       "      <th></th>\n",
       "      <th>0</th>\n",
       "      <th>1</th>\n",
       "      <th>2</th>\n",
       "      <th>3</th>\n",
       "    </tr>\n",
       "  </thead>\n",
       "  <tbody>\n",
       "    <tr>\n",
       "      <th>0</th>\n",
       "      <td>0.00</td>\n",
       "      <td>-0.16</td>\n",
       "      <td>-0.62</td>\n",
       "      <td>-0.88</td>\n",
       "    </tr>\n",
       "    <tr>\n",
       "      <th>1</th>\n",
       "      <td>0.16</td>\n",
       "      <td>0.00</td>\n",
       "      <td>-0.46</td>\n",
       "      <td>-0.71</td>\n",
       "    </tr>\n",
       "    <tr>\n",
       "      <th>2</th>\n",
       "      <td>0.62</td>\n",
       "      <td>0.46</td>\n",
       "      <td>0.00</td>\n",
       "      <td>-0.25</td>\n",
       "    </tr>\n",
       "    <tr>\n",
       "      <th>3</th>\n",
       "      <td>0.88</td>\n",
       "      <td>0.71</td>\n",
       "      <td>0.25</td>\n",
       "      <td>0.00</td>\n",
       "    </tr>\n",
       "  </tbody>\n",
       "</table>\n",
       "</div>"
      ],
      "text/plain": [
       "      0     1     2     3\n",
       "0  0.00 -0.16 -0.62 -0.88\n",
       "1  0.16  0.00 -0.46 -0.71\n",
       "2  0.62  0.46  0.00 -0.25\n",
       "3  0.88  0.71  0.25  0.00"
      ]
     },
     "execution_count": 20,
     "metadata": {},
     "output_type": "execute_result"
    }
   ],
   "source": [
    "diff_treats_0_inc = zeros((treatments_n, treatments_n))\n",
    "\n",
    "for treat_1 in range(treatments_n):\n",
    "    for treat_2 in range(treatments_n):\n",
    "        try: \n",
    "            inds_1_0 = recs.loc[:, treat_1] == 1\n",
    "            inds_2_0 = recs.loc[:, treat_2] == 1\n",
    "            impact_1 = recs[inds_1_0].loc[:, 'outcome'].mean() - recs[~inds_1_0].loc[:, 'outcome'].mean()\n",
    "            impact_2 = recs[inds_2_0].loc[:, 'outcome'].mean() - recs[~inds_2_0].loc[:, 'outcome'].mean()\n",
    "            res_1 = impact_1 - impact_2\n",
    "        except:\n",
    "            res_1 = NaN\n",
    "        diff_treats_0_inc[treat_1, treat_2] = res_1\n",
    "            \n",
    "pd.DataFrame(diff_treats_0_inc.round(2))"
   ]
  },
  {
   "cell_type": "markdown",
   "id": "920988eb",
   "metadata": {},
   "source": [
    "In comparison with the theoretical results"
   ]
  },
  {
   "cell_type": "code",
   "execution_count": 21,
   "id": "6622e112",
   "metadata": {},
   "outputs": [
    {
     "name": "stdout",
     "output_type": "stream",
     "text": [
      "Root Mean Square Error: 0.11723622370621659\n",
      "Estimated Ranking\n"
     ]
    },
    {
     "data": {
      "text/plain": [
       "3    0.0450\n",
       "2   -0.2075\n",
       "1   -0.6675\n",
       "0   -0.8300\n",
       "Name: 0, dtype: float64"
      ]
     },
     "execution_count": 21,
     "metadata": {},
     "output_type": "execute_result"
    }
   ],
   "source": [
    "print(\"Root Mean Square Error:\", rmse(expected_diff_treats, diff_treats_0_inc))\n",
    "print(\"Estimated Ranking\")\n",
    "rank_differences(pd.DataFrame(diff_treats_0_inc.round(2)))"
   ]
  },
  {
   "cell_type": "markdown",
   "id": "3e161e63",
   "metadata": {},
   "source": [
    "# Inverse Probability Weighting with Propensity Scores"
   ]
  },
  {
   "cell_type": "markdown",
   "id": "b7775fac",
   "metadata": {},
   "source": [
    "Using inverse probability weighting to remove the effect of confounders. The results are biased, leading to an incorrect order."
   ]
  },
  {
   "cell_type": "code",
   "execution_count": 23,
   "id": "5c1bc9af",
   "metadata": {},
   "outputs": [
    {
     "name": "stderr",
     "output_type": "stream",
     "text": [
      "100%|███████████████████████████████████████████| 16/16 [00:00<00:00, 59.74it/s]\n"
     ]
    },
    {
     "data": {
      "text/html": [
       "<div>\n",
       "<style scoped>\n",
       "    .dataframe tbody tr th:only-of-type {\n",
       "        vertical-align: middle;\n",
       "    }\n",
       "\n",
       "    .dataframe tbody tr th {\n",
       "        vertical-align: top;\n",
       "    }\n",
       "\n",
       "    .dataframe thead th {\n",
       "        text-align: right;\n",
       "    }\n",
       "</style>\n",
       "<table border=\"1\" class=\"dataframe\">\n",
       "  <thead>\n",
       "    <tr style=\"text-align: right;\">\n",
       "      <th></th>\n",
       "      <th>0</th>\n",
       "      <th>1</th>\n",
       "      <th>2</th>\n",
       "      <th>3</th>\n",
       "    </tr>\n",
       "  </thead>\n",
       "  <tbody>\n",
       "    <tr>\n",
       "      <th>0</th>\n",
       "      <td>0.00</td>\n",
       "      <td>0.09</td>\n",
       "      <td>-0.26</td>\n",
       "      <td>-0.22</td>\n",
       "    </tr>\n",
       "    <tr>\n",
       "      <th>1</th>\n",
       "      <td>-0.09</td>\n",
       "      <td>0.00</td>\n",
       "      <td>-0.35</td>\n",
       "      <td>-0.31</td>\n",
       "    </tr>\n",
       "    <tr>\n",
       "      <th>2</th>\n",
       "      <td>0.26</td>\n",
       "      <td>0.35</td>\n",
       "      <td>0.00</td>\n",
       "      <td>0.04</td>\n",
       "    </tr>\n",
       "    <tr>\n",
       "      <th>3</th>\n",
       "      <td>0.22</td>\n",
       "      <td>0.31</td>\n",
       "      <td>-0.04</td>\n",
       "      <td>0.00</td>\n",
       "    </tr>\n",
       "  </tbody>\n",
       "</table>\n",
       "</div>"
      ],
      "text/plain": [
       "      0     1     2     3\n",
       "0  0.00  0.09 -0.26 -0.22\n",
       "1 -0.09  0.00 -0.35 -0.31\n",
       "2  0.26  0.35  0.00  0.04\n",
       "3  0.22  0.31 -0.04  0.00"
      ]
     },
     "execution_count": 23,
     "metadata": {},
     "output_type": "execute_result"
    }
   ],
   "source": [
    "diff_treats_ipw = zeros((treatments_n, treatments_n))\n",
    "\n",
    "N = treatments_n\n",
    "\n",
    "for treat_1, treat_2 in tqdm(list(itertools.product(treats_ids, treats_ids))):\n",
    "\n",
    "    propensity_scores_1 = exploration_prob/N + (1 - exploration_prob)*originals[treat_1]\n",
    "    propensity_scores_2 = exploration_prob/N + (1 - exploration_prob)*originals[treat_2]\n",
    "\n",
    "    # Calculating Adjustment Formula\n",
    "    treat_data = recs.copy()\n",
    "    treat_data['propensity_scores_1'] = exploration_prob/N + (1 - exploration_prob)*originals[treat_1]\n",
    "    treat_data['propensity_scores_2'] = exploration_prob/N + (1 - exploration_prob)*originals[treat_2]\n",
    "\n",
    "    do_1 = 0\n",
    "    for control_vars, sub_data in treat_data.groupby('propensity_scores_1'):\n",
    "        prop = sub_data.shape[0]/treat_data.shape[0]\n",
    "        do_1 += sub_data[sub_data[treat_1] == 1].outcome.mean()*prop\n",
    "\n",
    "    do_2 = 0\n",
    "    for control_vars, sub_data in treat_data.groupby('propensity_scores_2'):\n",
    "        prop = sub_data.shape[0]/treat_data.shape[0]\n",
    "        do_2 += sub_data[sub_data[treat_2] == 1].outcome.mean()*prop\n",
    "\n",
    "    diff_treats_ipw[treat_1, treat_2] = do_1 - do_2\n",
    "\n",
    "pd.DataFrame(diff_treats_ipw.round(2))"
   ]
  },
  {
   "cell_type": "markdown",
   "id": "7afcffec",
   "metadata": {},
   "source": [
    "In comparison with the theoretical results"
   ]
  },
  {
   "cell_type": "code",
   "execution_count": 24,
   "id": "f675099f",
   "metadata": {},
   "outputs": [
    {
     "name": "stdout",
     "output_type": "stream",
     "text": [
      "Root Mean Square Error: 0.4312691042196188\n",
      "Estimated Ranking\n"
     ]
    },
    {
     "data": {
      "text/plain": [
       "2    0.065\n",
       "3    0.025\n",
       "0   -0.195\n",
       "1   -0.285\n",
       "Name: 0, dtype: float64"
      ]
     },
     "execution_count": 24,
     "metadata": {},
     "output_type": "execute_result"
    }
   ],
   "source": [
    "print(\"Root Mean Square Error:\", rmse(expected_diff_treats, diff_treats_ipw))\n",
    "print(\"Estimated Ranking\")\n",
    "rank_differences(pd.DataFrame(diff_treats_ipw.round(2)))"
   ]
  },
  {
   "cell_type": "markdown",
   "id": "5435f760",
   "metadata": {},
   "source": [
    "# Our Method"
   ]
  },
  {
   "cell_type": "markdown",
   "id": "4880af3f",
   "metadata": {},
   "source": [
    "You can see that with our method we obtain a much lower RMSE, and the correct order of impact of the items"
   ]
  },
  {
   "cell_type": "code",
   "execution_count": 25,
   "id": "38791518",
   "metadata": {},
   "outputs": [
    {
     "name": "stderr",
     "output_type": "stream",
     "text": [
      "100%|███████████████████████████████████████████| 16/16 [00:03<00:00,  4.56it/s]\n"
     ]
    },
    {
     "data": {
      "text/html": [
       "<div>\n",
       "<style scoped>\n",
       "    .dataframe tbody tr th:only-of-type {\n",
       "        vertical-align: middle;\n",
       "    }\n",
       "\n",
       "    .dataframe tbody tr th {\n",
       "        vertical-align: top;\n",
       "    }\n",
       "\n",
       "    .dataframe thead th {\n",
       "        text-align: right;\n",
       "    }\n",
       "</style>\n",
       "<table border=\"1\" class=\"dataframe\">\n",
       "  <thead>\n",
       "    <tr style=\"text-align: right;\">\n",
       "      <th></th>\n",
       "      <th>0</th>\n",
       "      <th>1</th>\n",
       "      <th>2</th>\n",
       "      <th>3</th>\n",
       "    </tr>\n",
       "  </thead>\n",
       "  <tbody>\n",
       "    <tr>\n",
       "      <th>0</th>\n",
       "      <td>0.00</td>\n",
       "      <td>-0.18</td>\n",
       "      <td>-0.72</td>\n",
       "      <td>-0.99</td>\n",
       "    </tr>\n",
       "    <tr>\n",
       "      <th>1</th>\n",
       "      <td>0.18</td>\n",
       "      <td>0.00</td>\n",
       "      <td>-0.52</td>\n",
       "      <td>-0.79</td>\n",
       "    </tr>\n",
       "    <tr>\n",
       "      <th>2</th>\n",
       "      <td>0.72</td>\n",
       "      <td>0.52</td>\n",
       "      <td>0.00</td>\n",
       "      <td>-0.29</td>\n",
       "    </tr>\n",
       "    <tr>\n",
       "      <th>3</th>\n",
       "      <td>0.99</td>\n",
       "      <td>0.79</td>\n",
       "      <td>0.29</td>\n",
       "      <td>0.00</td>\n",
       "    </tr>\n",
       "  </tbody>\n",
       "</table>\n",
       "</div>"
      ],
      "text/plain": [
       "      0     1     2     3\n",
       "0  0.00 -0.18 -0.72 -0.99\n",
       "1  0.18  0.00 -0.52 -0.79\n",
       "2  0.72  0.52  0.00 -0.29\n",
       "3  0.99  0.79  0.29  0.00"
      ]
     },
     "execution_count": 25,
     "metadata": {},
     "output_type": "execute_result"
    }
   ],
   "source": [
    "diff_treats = zeros((treatments_n, treatments_n))\n",
    "\n",
    "N = treatments_n\n",
    "q = exploration_prob/comb(N-2, k-1)\n",
    "\n",
    "recs_np = recs[treats_ids].to_numpy()\n",
    "originals_np = originals[treats_ids].to_numpy()\n",
    "\n",
    "for treat_1, treat_2 in tqdm(list(itertools.product(treats_ids, treats_ids))):\n",
    "    if treat_1 != treat_2:\n",
    "        other_treatments = [t for t in treats_ids if t not in [treat_1, treat_2]]\n",
    "\n",
    "        # Calculate Propensity Scores\n",
    "        L = recs_np[:, other_treatments]*originals_np[:, other_treatments]\n",
    "        L += (1 -recs_np[:, other_treatments])*(1-originals_np[:, other_treatments])\n",
    "        L = (np.apply_along_axis(np.sum, 1, L) == N-2).astype(int)\n",
    "        eta = q/(q + L*(1-exploration_prob))\n",
    "        propensity_scores = eta/2 + L*originals_np[:, treat_1]*(1-eta)\n",
    "\n",
    "        # Calculating Adjustment Formula\n",
    "        inds = recs_np[:, treat_1] != recs_np[:, treat_2]\n",
    "        diff_data = recs[inds]\n",
    "        diff_data['propensity_scores'] = propensity_scores[inds]\n",
    "\n",
    "        do_1 = 0\n",
    "        for control_vars, sub_data in diff_data.groupby('propensity_scores'):\n",
    "            prop = sub_data.shape[0]/diff_data.shape[0]\n",
    "            do_1 += sub_data[sub_data[treat_1] == 1].outcome.mean()*prop\n",
    "\n",
    "        do_2 = 0\n",
    "        for control_vars, sub_data in diff_data.groupby('propensity_scores'):\n",
    "            prop = sub_data.shape[0]/diff_data.shape[0]\n",
    "            do_2 += sub_data[sub_data[treat_2] == 1].outcome.mean()*prop\n",
    "\n",
    "        diff_treats[treat_1, treat_2] = do_1 - do_2\n",
    "        \n",
    "pd.DataFrame(diff_treats.round(2))"
   ]
  },
  {
   "cell_type": "markdown",
   "id": "0e718096",
   "metadata": {},
   "source": [
    "In comparison with the theoretical results"
   ]
  },
  {
   "cell_type": "code",
   "execution_count": 26,
   "id": "a357b676",
   "metadata": {},
   "outputs": [
    {
     "name": "stdout",
     "output_type": "stream",
     "text": [
      "Root Mean Square Error: 0.09703646291977848\n",
      "Estimated Ranking\n"
     ]
    },
    {
     "data": {
      "text/plain": [
       "3    0.045\n",
       "2   -0.235\n",
       "1   -0.755\n",
       "0   -0.945\n",
       "Name: 0, dtype: float64"
      ]
     },
     "execution_count": 26,
     "metadata": {},
     "output_type": "execute_result"
    }
   ],
   "source": [
    "print(\"Root Mean Square Error:\", rmse(expected_diff_treats, diff_treats))\n",
    "print(\"Estimated Ranking\")\n",
    "rank_differences(pd.DataFrame(diff_treats.round(2)))"
   ]
  }
 ],
 "metadata": {
  "kernelspec": {
   "display_name": "Python 3 (ipykernel)",
   "language": "python",
   "name": "python3"
  },
  "language_info": {
   "codemirror_mode": {
    "name": "ipython",
    "version": 3
   },
   "file_extension": ".py",
   "mimetype": "text/x-python",
   "name": "python",
   "nbconvert_exporter": "python",
   "pygments_lexer": "ipython3",
   "version": "3.11.0"
  }
 },
 "nbformat": 4,
 "nbformat_minor": 5
}
